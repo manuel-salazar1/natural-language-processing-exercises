{
 "cells": [
  {
   "cell_type": "markdown",
   "id": "a9a93b08-1063-4c1c-8d2a-0eb58cfa4f68",
   "metadata": {},
   "source": [
    "#### Imports"
   ]
  },
  {
   "cell_type": "code",
   "execution_count": 1,
   "id": "b12c767c-c905-4fd2-9012-17aa30b15eb9",
   "metadata": {},
   "outputs": [],
   "source": [
    "#standard imports\n",
    "import pandas as pd\n",
    "import numpy as np\n",
    "\n",
    "#import\n",
    "import unicodedata\n",
    "#import regular expression operations\n",
    "import re\n",
    "#import natural language toolkit\n",
    "import nltk\n",
    "#import stopwords list\n",
    "from nltk.corpus import stopwords\n",
    "\n",
    "import acquire as a"
   ]
  },
  {
   "cell_type": "code",
   "execution_count": 33,
   "id": "279bd854-ee10-4973-a62b-043679c1063c",
   "metadata": {},
   "outputs": [],
   "source": [
    "import requests\n",
    "from requests import get\n",
    "from bs4 import BeautifulSoup\n",
    "\n",
    "import os\n",
    "from pprint import pprint \n",
    "import time\n",
    "import json"
   ]
  },
  {
   "cell_type": "markdown",
   "id": "45a95286-6427-40e2-92c4-6ebed38b50a0",
   "metadata": {},
   "source": [
    "# Exercises"
   ]
  },
  {
   "cell_type": "markdown",
   "id": "86be406d-a2db-4fbe-9d96-df64903b2b55",
   "metadata": {},
   "source": [
    "In this exercise we will be defining some functions to prepare textual data. These functions should apply equally well to both the codeup blog articles and the news articles that were previously acquired."
   ]
  },
  {
   "cell_type": "markdown",
   "id": "a0a10be2-cabc-409a-8740-c0438af6e8cc",
   "metadata": {},
   "source": [
    "#### 1. Define a function named basic_clean. It should take in a string and apply some basic text cleaning to it:\n",
    "\n",
    "- Lowercase everything\n",
    "- Normalize unicode characters\n",
    "- Replace anything that is not a letter, number, whitespace or a single quote."
   ]
  },
  {
   "cell_type": "code",
   "execution_count": 3,
   "id": "5a203b93-bce9-485e-9b9e-b86ed4fc9615",
   "metadata": {},
   "outputs": [],
   "source": [
    "original = \"Paul Erdős and George Pólya were influential Hungarian mathematicians who contributed \\\n",
    "a lot to the field. Erdős's name contains the Hungarian letter 'ő' ('o' with double acute accent), \\\n",
    "but is often incorrectly written as Erdos or Erdös either by mistake or out of typographical necessity\""
   ]
  },
  {
   "cell_type": "code",
   "execution_count": 6,
   "id": "8091be7a-7480-4ab7-8d3f-9008575fee54",
   "metadata": {},
   "outputs": [
    {
     "data": {
      "text/plain": [
       "\"paul erdős and george pólya were influential hungarian mathematicians who contributed a lot to the field. erdős's name contains the hungarian letter 'ő' ('o' with double acute accent), but is often incorrectly written as erdos or erdös either by mistake or out of typographical necessity\""
      ]
     },
     "execution_count": 6,
     "metadata": {},
     "output_type": "execute_result"
    }
   ],
   "source": [
    "new = original.lower()\n",
    "new"
   ]
  },
  {
   "cell_type": "code",
   "execution_count": 8,
   "id": "6c9116e8-b6d4-4786-b6d9-040ac4e73e82",
   "metadata": {},
   "outputs": [
    {
     "data": {
      "text/plain": [
       "\"paul erdos and george polya were influential hungarian mathematicians who contributed a lot to the field. erdos's name contains the hungarian letter 'o' ('o' with double acute accent), but is often incorrectly written as erdos or erdos either by mistake or out of typographical necessity\""
      ]
     },
     "execution_count": 8,
     "metadata": {},
     "output_type": "execute_result"
    }
   ],
   "source": [
    "new = unicodedata.normalize('NFKD', new)\\\n",
    ".encode('ascii', 'ignore')\\\n",
    ".decode('utf-8')\n",
    "new"
   ]
  },
  {
   "cell_type": "code",
   "execution_count": 9,
   "id": "285d8fcb-b4f4-4a81-9d52-de7390d19341",
   "metadata": {},
   "outputs": [
    {
     "data": {
      "text/plain": [
       "\"paul erdos and george polya were influential hungarian mathematicians who contributed a lot to the field erdos's name contains the hungarian letter 'o' 'o' with double acute accent but is often incorrectly written as erdos or erdos either by mistake or out of typographical necessity\""
      ]
     },
     "execution_count": 9,
     "metadata": {},
     "output_type": "execute_result"
    }
   ],
   "source": [
    "new = re.sub(r'[^a-z0-9\\'\\s]', '', new)\n",
    "new"
   ]
  },
  {
   "cell_type": "code",
   "execution_count": 4,
   "id": "56231b97-58e7-4cbd-8620-fc0657865e63",
   "metadata": {},
   "outputs": [],
   "source": [
    "def basic_clean(original):\n",
    "    '''\n",
    "    Input: original text\n",
    "    Actions: \n",
    "    lowercase everything,\n",
    "    normalizes everything,\n",
    "    removes anything that's not a letter, number, whitespace, or single quote\n",
    "    Output: Cleaned text\n",
    "    '''\n",
    "    # lowercase everything\n",
    "    basic_cleaned = original.lower()\n",
    "    # normalize unicode characters\n",
    "    basic_cleaned = unicodedata.normalize('NFKD', basic_cleaned)\\\n",
    "    .encode('ascii', 'ignore')\\\n",
    "    .decode('utf-8')\n",
    "    # Replace anything that is not a letter, number, whitespace or a single quote.\n",
    "    basic_cleaned = re.sub(r'[^a-z0-9\\'\\s]', '', basic_cleaned)\n",
    "    \n",
    "    return basic_cleaned"
   ]
  },
  {
   "cell_type": "code",
   "execution_count": 5,
   "id": "c12283c8-b94d-4f5c-a3f5-049844efed53",
   "metadata": {},
   "outputs": [],
   "source": [
    "basic_cleaned = basic_clean(original)"
   ]
  },
  {
   "cell_type": "code",
   "execution_count": 6,
   "id": "3b0d007b-c0ad-43ab-8071-cb1b67712077",
   "metadata": {},
   "outputs": [
    {
     "data": {
      "text/plain": [
       "\"Paul Erdős and George Pólya were influential Hungarian mathematicians who contributed a lot to the field. Erdős's name contains the Hungarian letter 'ő' ('o' with double acute accent), but is often incorrectly written as Erdos or Erdös either by mistake or out of typographical necessity\""
      ]
     },
     "execution_count": 6,
     "metadata": {},
     "output_type": "execute_result"
    }
   ],
   "source": [
    "original"
   ]
  },
  {
   "cell_type": "code",
   "execution_count": 7,
   "id": "f97d78a3-96b7-42f8-826d-f802040e13e0",
   "metadata": {},
   "outputs": [
    {
     "data": {
      "text/plain": [
       "\"paul erdos and george polya were influential hungarian mathematicians who contributed a lot to the field erdos's name contains the hungarian letter 'o' 'o' with double acute accent but is often incorrectly written as erdos or erdos either by mistake or out of typographical necessity\""
      ]
     },
     "execution_count": 7,
     "metadata": {},
     "output_type": "execute_result"
    }
   ],
   "source": [
    "basic_cleaned"
   ]
  },
  {
   "cell_type": "code",
   "execution_count": null,
   "id": "b5b7cb6e-c77a-43d1-8d89-af3460b01769",
   "metadata": {},
   "outputs": [],
   "source": []
  },
  {
   "cell_type": "markdown",
   "id": "9f6f66fb-6603-4a77-8bde-23e2d172fb18",
   "metadata": {},
   "source": [
    "#### 2. Define a function named tokenize. It should take in a string and tokenize all the words in the string."
   ]
  },
  {
   "cell_type": "code",
   "execution_count": null,
   "id": "4aa14e95-29d1-4260-90ce-52bb7f762182",
   "metadata": {},
   "outputs": [],
   "source": [
    "#create the tokenizer\n",
    "tokenize = nltk.tokenize.ToktokTokenizer()"
   ]
  },
  {
   "cell_type": "code",
   "execution_count": null,
   "id": "36ad47b5-6311-4bfe-a869-119e8bca3402",
   "metadata": {},
   "outputs": [],
   "source": [
    "#use the tokenizer\n",
    "article = tokenize.tokenize(article, return_str=True)"
   ]
  },
  {
   "cell_type": "code",
   "execution_count": null,
   "id": "24afdfb9-51d5-4f84-9d03-f35fd412db3f",
   "metadata": {},
   "outputs": [],
   "source": []
  },
  {
   "cell_type": "code",
   "execution_count": 8,
   "id": "148abb82-f2f5-4f2d-bbc8-9ae099a0686b",
   "metadata": {},
   "outputs": [],
   "source": [
    "def tokenize(basic_cleaned):\n",
    "    '''\n",
    "    Input: basic_cleaned text string\n",
    "    Actions:\n",
    "    creates the tokenizer\n",
    "    uses the tokenizer\n",
    "    Output: clean_tokenize text string\n",
    "    '''\n",
    "    #create the tokenizer\n",
    "    tokenize = nltk.tokenize.ToktokTokenizer()\n",
    "    #use the tokenizer\n",
    "    clean_tokenize = tokenize.tokenize(basic_cleaned, return_str=True)\n",
    "    \n",
    "    return clean_tokenize"
   ]
  },
  {
   "cell_type": "code",
   "execution_count": 9,
   "id": "ea547298-4f30-42c6-bb31-3fe2b1ec3340",
   "metadata": {},
   "outputs": [],
   "source": [
    "clean_tokenize = tokenize(basic_cleaned)"
   ]
  },
  {
   "cell_type": "code",
   "execution_count": 10,
   "id": "1d2cbdda-fc20-4335-ac84-4486a7b31492",
   "metadata": {},
   "outputs": [
    {
     "data": {
      "text/plain": [
       "\"Paul Erdős and George Pólya were influential Hungarian mathematicians who contributed a lot to the field. Erdős's name contains the Hungarian letter 'ő' ('o' with double acute accent), but is often incorrectly written as Erdos or Erdös either by mistake or out of typographical necessity\""
      ]
     },
     "execution_count": 10,
     "metadata": {},
     "output_type": "execute_result"
    }
   ],
   "source": [
    "original"
   ]
  },
  {
   "cell_type": "code",
   "execution_count": 11,
   "id": "f42338ca-0648-4ff4-b054-b979bfeea56b",
   "metadata": {},
   "outputs": [
    {
     "data": {
      "text/plain": [
       "\"paul erdos and george polya were influential hungarian mathematicians who contributed a lot to the field erdos's name contains the hungarian letter 'o' 'o' with double acute accent but is often incorrectly written as erdos or erdos either by mistake or out of typographical necessity\""
      ]
     },
     "execution_count": 11,
     "metadata": {},
     "output_type": "execute_result"
    }
   ],
   "source": [
    "basic_cleaned"
   ]
  },
  {
   "cell_type": "code",
   "execution_count": 12,
   "id": "1ca68939-41aa-4a04-834f-7ab12732d1c9",
   "metadata": {},
   "outputs": [
    {
     "data": {
      "text/plain": [
       "\"paul erdos and george polya were influential hungarian mathematicians who contributed a lot to the field erdos ' s name contains the hungarian letter ' o ' ' o ' with double acute accent but is often incorrectly written as erdos or erdos either by mistake or out of typographical necessity\""
      ]
     },
     "execution_count": 12,
     "metadata": {},
     "output_type": "execute_result"
    }
   ],
   "source": [
    "clean_tokenize"
   ]
  },
  {
   "cell_type": "markdown",
   "id": "6f1b4018-647e-4055-baee-c77cc4f85528",
   "metadata": {},
   "source": [
    "#### 3. Define a function named stem. It should accept some text and return the text after applying stemming to all the words."
   ]
  },
  {
   "cell_type": "code",
   "execution_count": null,
   "id": "675275dc-c843-4d1a-9479-12aba2b27b89",
   "metadata": {},
   "outputs": [],
   "source": [
    "#create porter stemmer\n",
    "ps = nltk.porter.PorterStemmer()"
   ]
  },
  {
   "cell_type": "code",
   "execution_count": null,
   "id": "839b8e94-2892-4826-923e-c0b68d3a1302",
   "metadata": {},
   "outputs": [],
   "source": [
    "#use stemmer - apply stem to each word in our string\n",
    "stems = [ps.stem(word) for word in article.split()]"
   ]
  },
  {
   "cell_type": "code",
   "execution_count": null,
   "id": "cc8fae4c-9b87-40a9-9627-44218cf7f569",
   "metadata": {},
   "outputs": [],
   "source": [
    "#join words back together\n",
    "article_stemmed = ' '.join(stems)"
   ]
  },
  {
   "cell_type": "code",
   "execution_count": 13,
   "id": "6ef72063-ca10-498d-a7a0-dab3e4dccdaa",
   "metadata": {},
   "outputs": [],
   "source": [
    "def stem(clean_tokenize):\n",
    "    '''\n",
    "    Inputs: clean_tokenize \n",
    "    Actions: creates and uses stemmer for each word\n",
    "    Outputs: clean_tokenize_stem\n",
    "    '''\n",
    "    #create porter stemmer\n",
    "    ps = nltk.porter.PorterStemmer()\n",
    "    #use stemmer - apply stem to each word in our string\n",
    "    stems = [ps.stem(word) for word in clean_tokenize.split()]\n",
    "    #join words back together\n",
    "    clean_tokenize_stem = ' '.join(stems)\n",
    "    \n",
    "    return clean_tokenize_stem"
   ]
  },
  {
   "cell_type": "code",
   "execution_count": 14,
   "id": "dd521459-66e4-4f4b-92d2-aab31b3c1df0",
   "metadata": {},
   "outputs": [],
   "source": [
    "clean_tokenize_stem = stem(clean_tokenize)"
   ]
  },
  {
   "cell_type": "code",
   "execution_count": 15,
   "id": "abfea75e-c33e-4bcf-a79c-34b2b5d2705f",
   "metadata": {},
   "outputs": [
    {
     "data": {
      "text/plain": [
       "\"paul erdo and georg polya were influenti hungarian mathematician who contribut a lot to the field erdo ' s name contain the hungarian letter ' o ' ' o ' with doubl acut accent but is often incorrectli written as erdo or erdo either by mistak or out of typograph necess\""
      ]
     },
     "execution_count": 15,
     "metadata": {},
     "output_type": "execute_result"
    }
   ],
   "source": [
    "clean_tokenize_stem"
   ]
  },
  {
   "cell_type": "code",
   "execution_count": 16,
   "id": "524545f0-b083-4d42-8d6b-7c0467c7acc3",
   "metadata": {},
   "outputs": [
    {
     "data": {
      "text/plain": [
       "\"paul erdos and george polya were influential hungarian mathematicians who contributed a lot to the field erdos ' s name contains the hungarian letter ' o ' ' o ' with double acute accent but is often incorrectly written as erdos or erdos either by mistake or out of typographical necessity\""
      ]
     },
     "execution_count": 16,
     "metadata": {},
     "output_type": "execute_result"
    }
   ],
   "source": [
    "clean_tokenize"
   ]
  },
  {
   "cell_type": "markdown",
   "id": "8f9e48e0-ef95-4bec-9016-43006fdeede2",
   "metadata": {},
   "source": [
    "#### 4. Define a function named lemmatize. It should accept some text and return the text after applying lemmatization to each word."
   ]
  },
  {
   "cell_type": "code",
   "execution_count": null,
   "id": "a3465b9e-c14d-49b9-813d-ec09b7aa22c5",
   "metadata": {},
   "outputs": [],
   "source": [
    "#create the lemmatizer\n",
    "wnl = nltk.stem.WordNetLemmatizer()"
   ]
  },
  {
   "cell_type": "code",
   "execution_count": null,
   "id": "1465c669-b2cf-4625-9e12-99cb810aad78",
   "metadata": {},
   "outputs": [],
   "source": [
    "#use lemmatize - apply stem to each word in our string\n",
    "lemmas = [wnl.lemmatize(word) for word in article.split()]"
   ]
  },
  {
   "cell_type": "code",
   "execution_count": null,
   "id": "df1c9143-14ed-41c1-8eaa-42c783ae5de9",
   "metadata": {},
   "outputs": [],
   "source": [
    "#join words back together\n",
    "article_lemma = ' '.join(lemmas)"
   ]
  },
  {
   "cell_type": "code",
   "execution_count": 17,
   "id": "96d076fe-e4d3-439f-baf1-dc8a3aaee45d",
   "metadata": {},
   "outputs": [],
   "source": [
    "def lemmatize(clean_tokenize):\n",
    "    '''\n",
    "    Inputs: clean_tokenize\n",
    "    Actions: creates lemmatizer and applies to each word\n",
    "    Outputs: clean_tokenize_lemma\n",
    "    '''\n",
    "    #create the lemmatizer\n",
    "    wnl = nltk.stem.WordNetLemmatizer()\n",
    "    #use lemmatize - apply to each word in our string\n",
    "    lemmas = [wnl.lemmatize(word) for word in clean_tokenize.split()]\n",
    "    #join words back together\n",
    "    clean_tokenize_lemma = ' '.join(lemmas)\n",
    "    \n",
    "    return clean_tokenize_lemma"
   ]
  },
  {
   "cell_type": "code",
   "execution_count": 18,
   "id": "57365c76-dee5-4977-add1-243727b76f2d",
   "metadata": {},
   "outputs": [],
   "source": [
    "clean_tokenize_lemma = lemmatize(clean_tokenize)"
   ]
  },
  {
   "cell_type": "code",
   "execution_count": 19,
   "id": "fae4ad9d-647c-49ae-9d7e-118084bf92d0",
   "metadata": {},
   "outputs": [
    {
     "data": {
      "text/plain": [
       "\"paul erdos and george polya were influential hungarian mathematician who contributed a lot to the field erdos ' s name contains the hungarian letter ' o ' ' o ' with double acute accent but is often incorrectly written a erdos or erdos either by mistake or out of typographical necessity\""
      ]
     },
     "execution_count": 19,
     "metadata": {},
     "output_type": "execute_result"
    }
   ],
   "source": [
    "clean_tokenize_lemma"
   ]
  },
  {
   "cell_type": "code",
   "execution_count": 20,
   "id": "d8b43f60-d735-4922-8750-c62647ff48f7",
   "metadata": {},
   "outputs": [
    {
     "data": {
      "text/plain": [
       "\"paul erdos and george polya were influential hungarian mathematicians who contributed a lot to the field erdos ' s name contains the hungarian letter ' o ' ' o ' with double acute accent but is often incorrectly written as erdos or erdos either by mistake or out of typographical necessity\""
      ]
     },
     "execution_count": 20,
     "metadata": {},
     "output_type": "execute_result"
    }
   ],
   "source": [
    "clean_tokenize"
   ]
  },
  {
   "cell_type": "markdown",
   "id": "b86b7eb2-17c1-4540-8352-47359c5b2f14",
   "metadata": {},
   "source": [
    "#### 5. Define a function named remove_stopwords. It should accept some text and return the text after removing all the stopwords.\n",
    "- This function should define two optional parameters, extra_words and exclude_words. These parameters should define any additional stop words to include, and any words that we don't want to remove."
   ]
  },
  {
   "cell_type": "code",
   "execution_count": null,
   "id": "1a338e30-aa6f-49f4-a477-8037b17b0d21",
   "metadata": {},
   "outputs": [],
   "source": [
    "#save stopwords\n",
    "stopwords_ls = stopwords.words('english')"
   ]
  },
  {
   "cell_type": "code",
   "execution_count": null,
   "id": "c18f8054-3319-4efc-9f53-386f9fb0194f",
   "metadata": {},
   "outputs": [],
   "source": [
    "#split words in lemmatized article\n",
    "words = article_lemma.split()"
   ]
  },
  {
   "cell_type": "code",
   "execution_count": null,
   "id": "5c440740-e484-4a22-be95-e7841d4afa1f",
   "metadata": {},
   "outputs": [],
   "source": [
    "stopwords_ls.append(\"'\")"
   ]
  },
  {
   "cell_type": "code",
   "execution_count": null,
   "id": "ea6159cd-fbf8-4d11-8086-faf1a7ff4d4a",
   "metadata": {},
   "outputs": [],
   "source": [
    "#remove stopwords from list of words\n",
    "filtered = [word for word in words if word not in stopwords_ls]"
   ]
  },
  {
   "cell_type": "code",
   "execution_count": null,
   "id": "2636888a-394c-477b-82a6-6adc09eb6234",
   "metadata": {},
   "outputs": [],
   "source": [
    "#join words back together\n",
    "parsed_article = ' '.join(filtered)"
   ]
  },
  {
   "cell_type": "code",
   "execution_count": 21,
   "id": "695345c5-39ac-4ef1-8e32-805ebe938a33",
   "metadata": {},
   "outputs": [],
   "source": [
    "def remove_stopwords(lemma_or_stem, extra_words=[], exclude_words=[]):\n",
    "    '''\n",
    "    Input:text string or .apply(remove_stopwords) to entire data frame\n",
    "    Action: removes standard stop words\n",
    "    Output: parsed_article\n",
    "    '''\n",
    "    # save stopwords\n",
    "    stopwords_ls = stopwords.words('english')\n",
    "    # removing any stopwords in exclude list\n",
    "    stopwords_ls = set(stopwords_ls) - set(exclude_words)\n",
    "    # adding any stopwords in extra list\n",
    "    stopwords_ls = stopwords_ls.union(set(extra_words))\n",
    "    \n",
    "    # split words in article\n",
    "    words = lemma_or_stem.split()\n",
    "    # remove stopwords from list of words\n",
    "    filtered = [word for word in words if word not in stopwords_ls]\n",
    "    # join words back together\n",
    "    parsed_article = ' '.join(filtered)\n",
    "    \n",
    "    return parsed_article"
   ]
  },
  {
   "cell_type": "code",
   "execution_count": 22,
   "id": "6e48a409-e3db-447f-8999-c7e411349052",
   "metadata": {},
   "outputs": [],
   "source": [
    "parsed_article = remove_stopwords(clean_tokenize_lemma)"
   ]
  },
  {
   "cell_type": "code",
   "execution_count": 23,
   "id": "024b50e5-a7a1-4614-a1c2-90aea88c5783",
   "metadata": {},
   "outputs": [
    {
     "data": {
      "text/plain": [
       "'paul erdos george polya influential hungarian mathematician contributed lot field erdos name contains hungarian letter double acute accent often incorrectly written erdos erdos either mistake typographical necessity'"
      ]
     },
     "execution_count": 23,
     "metadata": {},
     "output_type": "execute_result"
    }
   ],
   "source": [
    "parsed_article"
   ]
  },
  {
   "cell_type": "code",
   "execution_count": 24,
   "id": "91baf1a8-e2ee-4a6f-9cf3-85b29d096921",
   "metadata": {},
   "outputs": [
    {
     "data": {
      "text/plain": [
       "\"paul erdos and george polya were influential hungarian mathematician who contributed a lot to the field erdos ' s name contains the hungarian letter ' o ' ' o ' with double acute accent but is often incorrectly written a erdos or erdos either by mistake or out of typographical necessity\""
      ]
     },
     "execution_count": 24,
     "metadata": {},
     "output_type": "execute_result"
    }
   ],
   "source": [
    "clean_tokenize_lemma"
   ]
  },
  {
   "cell_type": "markdown",
   "id": "1e7ea8f7-7282-4b75-8387-392332c4ad52",
   "metadata": {},
   "source": [
    "#### 6. Use your data from the acquire to produce a dataframe of the news articles. Name the dataframe news_df."
   ]
  },
  {
   "cell_type": "code",
   "execution_count": 2,
   "id": "3a096170-c135-48ef-a0ca-f3a181c4be61",
   "metadata": {},
   "outputs": [
    {
     "name": "stdout",
     "output_type": "stream",
     "text": [
      "get_blog_articles2()\n",
      "scrape_one_page(topic)\n",
      "get_news_articles(topic_list)\n"
     ]
    }
   ],
   "source": [
    "a.acquire_info()"
   ]
  },
  {
   "cell_type": "code",
   "execution_count": 25,
   "id": "ccc9c741-0d3b-4d39-b95f-38f3a1847eb6",
   "metadata": {},
   "outputs": [],
   "source": [
    "topic_list = ['business', 'sports', 'technology', 'entertainment']"
   ]
  },
  {
   "cell_type": "code",
   "execution_count": 26,
   "id": "66191e9a-3370-4bcf-8474-e124252c3c93",
   "metadata": {},
   "outputs": [],
   "source": [
    "final_list = a.get_news_articles(topic_list)"
   ]
  },
  {
   "cell_type": "code",
   "execution_count": 29,
   "id": "09563046-a0df-4010-a32c-f00033dc2186",
   "metadata": {},
   "outputs": [],
   "source": [
    "#pd.set_option(\"display.max_colwidth\", None)"
   ]
  },
  {
   "cell_type": "code",
   "execution_count": 89,
   "id": "16a3c2b3-3f20-4940-88e9-6609a110dcb3",
   "metadata": {},
   "outputs": [],
   "source": [
    "#pd.reset_option(\"display.max_colwidth\")"
   ]
  },
  {
   "cell_type": "code",
   "execution_count": 31,
   "id": "ef1494d5-adb5-436e-82a9-05e7516cedbf",
   "metadata": {},
   "outputs": [
    {
     "data": {
      "text/html": [
       "<div>\n",
       "<style scoped>\n",
       "    .dataframe tbody tr th:only-of-type {\n",
       "        vertical-align: middle;\n",
       "    }\n",
       "\n",
       "    .dataframe tbody tr th {\n",
       "        vertical-align: top;\n",
       "    }\n",
       "\n",
       "    .dataframe thead th {\n",
       "        text-align: right;\n",
       "    }\n",
       "</style>\n",
       "<table border=\"1\" class=\"dataframe\">\n",
       "  <thead>\n",
       "    <tr style=\"text-align: right;\">\n",
       "      <th></th>\n",
       "      <th>category</th>\n",
       "      <th>title</th>\n",
       "      <th>content</th>\n",
       "    </tr>\n",
       "  </thead>\n",
       "  <tbody>\n",
       "    <tr>\n",
       "      <th>0</th>\n",
       "      <td>business</td>\n",
       "      <td>Sensex, Nifty end at fresh closing highs</td>\n",
       "      <td>Benchmark indices Sensex and Nifty ended at record closing highs on Wednesday. Sensex ended 195 points higher at 63,523 while the Nifty ended at 18,856.85, up 40 points. The gains were led by stocks like HDFC, Reliance Industries and TCS. During the intraday trade, Sensex rose to its fresh record high level of 63,588.</td>\n",
       "    </tr>\n",
       "    <tr>\n",
       "      <th>1</th>\n",
       "      <td>business</td>\n",
       "      <td>TIME releases list of the world's 100 most influential companies</td>\n",
       "      <td>TIME magazine has released its annual list of the world's 100 most influential companies, which features OpenAI, SpaceX, Chess.com, Google DeepMind and Kim Kardashian's SKIMS among others. The National Payments Corporation of India (NPCI) and e-commerce platform Meesho also featured on the list. \"NPCI launched UPI...which accounted for 52% of India's digital transactions in FY22,\" TIME said.</td>\n",
       "    </tr>\n",
       "    <tr>\n",
       "      <th>2</th>\n",
       "      <td>business</td>\n",
       "      <td>Which are the world's top 10 airlines according to passengers?</td>\n",
       "      <td>Singapore Airlines is the world's best airline, according to Skytrax World Airline Awards 2023, an annual poll of flyers released at the Paris Air Show. It is followed by Qatar Airways, All Nippon Airways, Emirates, Japan Airlines, Turkish Airlines, Air France, Cathay Pacific, EVA Air, and Korean Air. Vistara, ranked 16th, is the only Indian airline in the top 20.</td>\n",
       "    </tr>\n",
       "    <tr>\n",
       "      <th>3</th>\n",
       "      <td>business</td>\n",
       "      <td>Loves India, is a fan of PM: Paytm Founder on Musk after Modi meet</td>\n",
       "      <td>Paytm Founder Vijay Shekhar Sharma shared a video of Tesla CEO Elon Musk's media interaction after meeting with PM Modi and wrote, \"Musk may be in India, next year.\" In another tweet, Sharma said, \"He [Musk] won't find population problem in India. Finds clean energy, energy storage and EVs as great potential...Loves India and is a fan of our PM.\"</td>\n",
       "    </tr>\n",
       "    <tr>\n",
       "      <th>4</th>\n",
       "      <td>business</td>\n",
       "      <td>UK's net debt passes 100% of GDP for the first time since 1961</td>\n",
       "      <td>The United Kingdom's public sector net debt in May exceeded 100% of the nation's GDP for the first time since 1961, the UK government's Office for National Statistics said on Wednesday. Public sector net debt, excluding that of state-controlled banks, hit £2.567 trillion, equivalent to 100.1% of the UK's GDP. The UK government's borrowing in May totalled £20.045 billion.\\n\\n</td>\n",
       "    </tr>\n",
       "    <tr>\n",
       "      <th>...</th>\n",
       "      <td>...</td>\n",
       "      <td>...</td>\n",
       "      <td>...</td>\n",
       "    </tr>\n",
       "    <tr>\n",
       "      <th>95</th>\n",
       "      <td>entertainment</td>\n",
       "      <td>Of course, why not: Gautam Gulati on if he would ever date a fan</td>\n",
       "      <td>Actor Gautam Gulati, when asked if he would ever date a fan, said, \"Of course, why not.\" He also said that if he had to change his name, he would change it to 'Kabir' because he likes the name. He added that he loves his routine and says no to anyone asking him to go out for food or drinks.</td>\n",
       "    </tr>\n",
       "    <tr>\n",
       "      <th>96</th>\n",
       "      <td>entertainment</td>\n",
       "      <td>Rajamouli said Baahubali was litmus test for Mahabharata: Prasad</td>\n",
       "      <td>\\nSS Rajamouli's father and writer Vijayendra Prasad shared that the filmmaker told him that with 'Baahubali' he was \"trying to check\" his own readiness for handling 'Mahabharata' at a later stage. \"Rajamouli said ['Baahubali'] is going to be...litmus test for that ultimate goal,\" Vijayendra shared. He added that it is because of Rajamouli that his work has gained recognition.</td>\n",
       "    </tr>\n",
       "    <tr>\n",
       "      <th>97</th>\n",
       "      <td>entertainment</td>\n",
       "      <td>Admire her audacity: Mahesh Bhatt on Pooja entering 'Bigg Boss...'</td>\n",
       "      <td>Filmmaker Mahesh Bhatt reacted to his daughter Pooja Bhatt's participation in 'Bigg Boss OTT 2'. \"Life's greatest adventures begin when we step into the realm of the unknown with courage and curiosity. She has done just that. I admire her audacity,\" Bhatt told ETimes. Pooja, on the show, had opened up about battling alcohol addiction at the age of 44.</td>\n",
       "    </tr>\n",
       "    <tr>\n",
       "      <th>98</th>\n",
       "      <td>entertainment</td>\n",
       "      <td>I lost reputation the first day I started working: Cryus Broacha</td>\n",
       "      <td>Cyrus Broacha said he \"needed new ways of earning money\", which is why he participated in 'Bigg Boss OTT 2'. When questioned if he's worried about his image, Cyrus answered, \"Do you think coming on 'Bigg Boss' would affect my reputation? I lost [it] the...day I started working. I've no fears.\" However, he mentioned that he's worried about mental health.</td>\n",
       "    </tr>\n",
       "    <tr>\n",
       "      <th>99</th>\n",
       "      <td>entertainment</td>\n",
       "      <td>Aamir remembered my 'Laal...' audition, I was embarrassed: Bajwa</td>\n",
       "      <td>Actress Sonam Bajwa recalled that when she had met Aamir Khan at the trailer launch of 'Carry On Jatta 3', she told him that she had auditioned for 'Laal Singh Chaddha', which he said he had seen. \"I didn't expect him to remember...I was so embarrassed...[The audition] wasn't that bad...[Makers]...changed their plan to cast an established Bollywood actress,\" she shared.</td>\n",
       "    </tr>\n",
       "  </tbody>\n",
       "</table>\n",
       "<p>100 rows × 3 columns</p>\n",
       "</div>"
      ],
      "text/plain": [
       "         category  \\\n",
       "0        business   \n",
       "1        business   \n",
       "2        business   \n",
       "3        business   \n",
       "4        business   \n",
       "..            ...   \n",
       "95  entertainment   \n",
       "96  entertainment   \n",
       "97  entertainment   \n",
       "98  entertainment   \n",
       "99  entertainment   \n",
       "\n",
       "                                                                 title  \\\n",
       "0                             Sensex, Nifty end at fresh closing highs   \n",
       "1     TIME releases list of the world's 100 most influential companies   \n",
       "2       Which are the world's top 10 airlines according to passengers?   \n",
       "3   Loves India, is a fan of PM: Paytm Founder on Musk after Modi meet   \n",
       "4       UK's net debt passes 100% of GDP for the first time since 1961   \n",
       "..                                                                 ...   \n",
       "95    Of course, why not: Gautam Gulati on if he would ever date a fan   \n",
       "96    Rajamouli said Baahubali was litmus test for Mahabharata: Prasad   \n",
       "97  Admire her audacity: Mahesh Bhatt on Pooja entering 'Bigg Boss...'   \n",
       "98    I lost reputation the first day I started working: Cryus Broacha   \n",
       "99    Aamir remembered my 'Laal...' audition, I was embarrassed: Bajwa   \n",
       "\n",
       "                                                                                                                                                                                                                                                                                                                                                                                                       content  \n",
       "0                                                                             Benchmark indices Sensex and Nifty ended at record closing highs on Wednesday. Sensex ended 195 points higher at 63,523 while the Nifty ended at 18,856.85, up 40 points. The gains were led by stocks like HDFC, Reliance Industries and TCS. During the intraday trade, Sensex rose to its fresh record high level of 63,588.   \n",
       "1   TIME magazine has released its annual list of the world's 100 most influential companies, which features OpenAI, SpaceX, Chess.com, Google DeepMind and Kim Kardashian's SKIMS among others. The National Payments Corporation of India (NPCI) and e-commerce platform Meesho also featured on the list. \"NPCI launched UPI...which accounted for 52% of India's digital transactions in FY22,\" TIME said.  \n",
       "2                               Singapore Airlines is the world's best airline, according to Skytrax World Airline Awards 2023, an annual poll of flyers released at the Paris Air Show. It is followed by Qatar Airways, All Nippon Airways, Emirates, Japan Airlines, Turkish Airlines, Air France, Cathay Pacific, EVA Air, and Korean Air. Vistara, ranked 16th, is the only Indian airline in the top 20.  \n",
       "3                                                 Paytm Founder Vijay Shekhar Sharma shared a video of Tesla CEO Elon Musk's media interaction after meeting with PM Modi and wrote, \"Musk may be in India, next year.\" In another tweet, Sharma said, \"He [Musk] won't find population problem in India. Finds clean energy, energy storage and EVs as great potential...Loves India and is a fan of our PM.\"  \n",
       "4                    The United Kingdom's public sector net debt in May exceeded 100% of the nation's GDP for the first time since 1961, the UK government's Office for National Statistics said on Wednesday. Public sector net debt, excluding that of state-controlled banks, hit £2.567 trillion, equivalent to 100.1% of the UK's GDP. The UK government's borrowing in May totalled £20.045 billion.\\n\\n  \n",
       "..                                                                                                                                                                                                                                                                                                                                                                                                         ...  \n",
       "95                                                                                                        Actor Gautam Gulati, when asked if he would ever date a fan, said, \"Of course, why not.\" He also said that if he had to change his name, he would change it to 'Kabir' because he likes the name. He added that he loves his routine and says no to anyone asking him to go out for food or drinks.   \n",
       "96                \\nSS Rajamouli's father and writer Vijayendra Prasad shared that the filmmaker told him that with 'Baahubali' he was \"trying to check\" his own readiness for handling 'Mahabharata' at a later stage. \"Rajamouli said ['Baahubali'] is going to be...litmus test for that ultimate goal,\" Vijayendra shared. He added that it is because of Rajamouli that his work has gained recognition.   \n",
       "97                                          Filmmaker Mahesh Bhatt reacted to his daughter Pooja Bhatt's participation in 'Bigg Boss OTT 2'. \"Life's greatest adventures begin when we step into the realm of the unknown with courage and curiosity. She has done just that. I admire her audacity,\" Bhatt told ETimes. Pooja, on the show, had opened up about battling alcohol addiction at the age of 44.   \n",
       "98                                        Cyrus Broacha said he \"needed new ways of earning money\", which is why he participated in 'Bigg Boss OTT 2'. When questioned if he's worried about his image, Cyrus answered, \"Do you think coming on 'Bigg Boss' would affect my reputation? I lost [it] the...day I started working. I've no fears.\" However, he mentioned that he's worried about mental health.   \n",
       "99                       Actress Sonam Bajwa recalled that when she had met Aamir Khan at the trailer launch of 'Carry On Jatta 3', she told him that she had auditioned for 'Laal Singh Chaddha', which he said he had seen. \"I didn't expect him to remember...I was so embarrassed...[The audition] wasn't that bad...[Makers]...changed their plan to cast an established Bollywood actress,\" she shared.   \n",
       "\n",
       "[100 rows x 3 columns]"
      ]
     },
     "execution_count": 31,
     "metadata": {},
     "output_type": "execute_result"
    }
   ],
   "source": [
    "news_df = pd.DataFrame(final_list)\n",
    "news_df"
   ]
  },
  {
   "cell_type": "code",
   "execution_count": null,
   "id": "cf03b950-079d-447a-8fdd-bb97eacaff1d",
   "metadata": {},
   "outputs": [],
   "source": []
  },
  {
   "cell_type": "markdown",
   "id": "e5340e57-bd06-477b-97f9-6b2e8c2d040d",
   "metadata": {},
   "source": [
    "#### 7. Make another dataframe for the Codeup blog posts. Name the dataframe codeup_df."
   ]
  },
  {
   "cell_type": "code",
   "execution_count": 34,
   "id": "31c99452-c315-42f4-8ecf-e06a390a0dbd",
   "metadata": {},
   "outputs": [],
   "source": [
    "url = \"https://codeup.com/blog/\"\n",
    "headers = {'User-Agent': 'Codeup Data Science'}\n",
    "response = get(url, headers = headers)\n",
    "soup = BeautifulSoup(response.content, 'html.parser')\n",
    "more_links = soup.find_all('a', class_='more-link')\n",
    "links_list = [link['href'] for link in more_links]"
   ]
  },
  {
   "cell_type": "code",
   "execution_count": 35,
   "id": "fdbbda57-9cc7-4ea5-905c-5a4f8622b36e",
   "metadata": {},
   "outputs": [],
   "source": [
    "article_info = a.get_blog_articles2(links_list)"
   ]
  },
  {
   "cell_type": "code",
   "execution_count": 37,
   "id": "de27621f-fe3a-4705-a0e6-5c842f01966d",
   "metadata": {},
   "outputs": [
    {
     "data": {
      "text/html": [
       "<div>\n",
       "<style scoped>\n",
       "    .dataframe tbody tr th:only-of-type {\n",
       "        vertical-align: middle;\n",
       "    }\n",
       "\n",
       "    .dataframe tbody tr th {\n",
       "        vertical-align: top;\n",
       "    }\n",
       "\n",
       "    .dataframe thead th {\n",
       "        text-align: right;\n",
       "    }\n",
       "</style>\n",
       "<table border=\"1\" class=\"dataframe\">\n",
       "  <thead>\n",
       "    <tr style=\"text-align: right;\">\n",
       "      <th></th>\n",
       "      <th>title</th>\n",
       "      <th>link</th>\n",
       "      <th>date_published</th>\n",
       "      <th>content</th>\n",
       "    </tr>\n",
       "  </thead>\n",
       "  <tbody>\n",
       "    <tr>\n",
       "      <th>0</th>\n",
       "      <td>Spotlight on APIDA Voices: Celebrating Heritage and Inspiring Change ft. Arbeena Thapa</td>\n",
       "      <td>https://codeup.com/codeup-news/panelist-spotlight-4/</td>\n",
       "      <td>May 24, 2023</td>\n",
       "      <td>\\nMay is traditionally known as Asian American and Pacific Islander (AAPI) Heritage Month. This month we celebrate the history and contributions made possible by our AAPI friends, family, and community. We also examine our level of support and seek opportunities to better understand the AAPI community.\\n\\nIn an effort to address real concerns and experiences, we sat down with Arbeena Thapa, one of Codeup’s Financial Aid and Enrollment Managers.\\nArbeena identifies as Nepali American and Desi. Arbeena’s parents immigrated to Texas in 1988 for better employment and educational opportunities. Arbeena’s older sister was five when they made the move to the US. Arbeena was born later, becoming the first in her family to be a US citizen.\\nAt Codeup we take our efforts at inclusivity very seriously. After speaking with Arbeena, we were taught that the term AAPI excludes Desi-American individuals. Hence, we will now use the term Asian Pacific Islander Desi American (APIDA).\\nHere is how the rest of our conversation with Arbeena went!\\nHow do you celebrate or connect with your heritage and cultural traditions?\\n“I celebrate Nepal’s version of Christmas or Dashain. This is a nine-day celebration also known as Dussehra. I grew up as Hindu and I identify as Hindu, this is a very large part of my heritage. “\\n“Other ways I connect with my culture include sharing food! Momos are South Asian Dumplings and they’re my favorite to make and share.”\\n“On my Asian American side, I am an advocate of immigrant justice and erasure within APIDA social or political movements. I participate in events to embrace my identity such as immigrant justice advocacy because I come from a mixed-status family. I’ve always been in a community with undocumented Asian immigrants. .”\\nWhat are some of the challenges you have faced as an APIDA individual, personally or professionally?\\n“I often struggle with being gendered as compliant or a pushover. Professionally, I am often stereotyped as meek, so I’ve been overlooked for leadership roles. We are seen as perpetually foreign; people tend to other us in that way, yet put us on a pedestal for what a model minority looks like. This has made me hesitant to share my heritage in the past because these assumptions get mapped onto me. ”\\nCan you describe some common barriers of entry that APIDA individuals, specifically women may face when trying to enter or advance in the workplace?\\n“Being overlooked for leadership. In the past, I have not been viewed as a leader. People sometimes have preconceived stereotypes of Asian women not being able to be bold, or being vocal can be mistaken for being too emotional. “\\nHow do you believe microaggressions impact APIDA individuals in the workplace? Can you provide examples of such microaggressions?\\n“Erasure is big. To me, only saying ‘Merry Christmas’ isn’t inclusive to other religions. People are often resistant to saying ‘Happy Holidays,’ but saying Merry Christmas excludes, and does not appreciate my heritage. “\\n“Often microaggressions are not micro at all. They typically are not aggressive racialized violence, but the term ‘micro’ minimizes impact.”\\n“Some that I’ve heard are ‘What kind of Asian are you?’ or ‘Where are you from?’ This automatically makes me the ‘other’ and not seen as American. Even within the APIDA community, South Asians are overlooked as “Asian”.”\\nHow important is representation, specifically APIDA representation, in organizational leadership positions?\\n“I want to say that it is important to have someone who looks like you in leadership roles, and it is, but those leaders may not share the same beliefs as you. Certain privileges such as wealth, resources, or lack of interaction with lower-socioeconomic-status Asian Americans may cause a difference in community politics. I do not think the bamboo ceiling is acceptable, but the company you work for plays a big part in your politics and belief alignment.”\\nHow do you feel about code-switching, and have you ever felt it necessary to code-switch?\\n“I like sharing South Asian terms or connecting with others that have similar heritage and culture. A workplace that is welcoming to going into this sort of breakout is refreshing and makes space for us. However, having to code-switch could also mean a workplace that is not conducive and welcoming of other cultures. “\\nFinally, in your opinion, what long-term strategies can create lasting change in the workplace and ensure support, equality, and inclusion for APIDA individuals?\\n“Prior to a career in financial aid, I did a lot of research related to the post-9/11 immigration of the South Asian diaspora. This background made me heavily rely on grassroots organizing. Hire the people that want to innovate, hire the changemakers, hire the button-pushers. Reduce reliance on whiteness as change. This will become natural for the organization and become organizational change. Change comes from us on the ground.”\\nA huge thank you to Arbeena Thapa for sharing her experiences, and being vulnerable with us. Your words were inspiring and the opportunity to understand your perspective more has been valuable. We hope we can become better support for the APIDA community as we learn and grow on our journey of cultivating inclusive growth.\\n</td>\n",
       "    </tr>\n",
       "    <tr>\n",
       "      <th>1</th>\n",
       "      <td>Women in tech: Panelist Spotlight – Magdalena Rahn</td>\n",
       "      <td>https://codeup.com/codeup-news/panelist-spotlight-4/</td>\n",
       "      <td>Mar 28, 2023</td>\n",
       "      <td>\\nWomen in tech: Panelist Spotlight – Magdalena Rahn\\nCodeup is hosting a Women in Tech Panel in honor of Women’s History Month on March 29th, 2023! To further celebrate, we’d like to spotlight each of our panelists leading up to the discussion to learn a bit about their respective experiences as women in the tech industry!\\n\\nMeet Magdalena!\\nMagdalena Rahn is a current Codeup student in a Data Science cohort in San Antonio, Texas. She has a professional background in cross-cultural communications, international business development, the wine industry and journalism. After serving in the US Navy, she decided to complement her professional skill set by attending the Data Science program at Codeup; she is set to graduate in March 2023. Magdalena is fluent in French, Bulgarian, Chinese-Mandarin, Spanish and Italian.\\nWe asked Magdalena how Codeup impacted her career, and she replied “Codeup has provided a solid foundation in analytical processes, programming and data science methods, and it’s been an encouragement to have such supportive instructors and wonderful classmates.”\\nDon’t forget to tune in on March 29th to sit in on an insightful conversation with Magdalena.\\n</td>\n",
       "    </tr>\n",
       "    <tr>\n",
       "      <th>2</th>\n",
       "      <td>Women in tech: Panelist Spotlight – Rachel Robbins-Mayhill</td>\n",
       "      <td>https://codeup.com/codeup-news/panelist-spotlight-4/</td>\n",
       "      <td>Mar 20, 2023</td>\n",
       "      <td>\\nWomen in tech: Panelist Spotlight – Rachel Robbins-Mayhill\\nCodeup is hosting a Women in Tech Panel in honor of Women’s History Month on March 29th, 2023! To further celebrate, we’d like to spotlight each of our panelists leading up to the discussion to learn a bit about their respective experiences as women in the tech industry! Meet Rachel!\\n\\nRachel Robbins-Mayhill is a Decision Science Analyst I in San Antonio, Texas. Rachel has had a varied career that includes counseling, teaching, training, community development, and military operations. Her focus has always been on assessing needs, identifying solutions, and educating individuals and groups on aligning needs and solutions in different contexts. Rachel’s passion for data science stems from her belief that data is a powerful tool for communicating patterns that can lead to hope and growth in the future.\\nIn June 2022, Rachel graduated from Codeup’s Innis cohort, where she honed her skills in data science. Shortly after, she started working as a Data Science Technical Writer with Apex Systems as a Contractor for USAA in July 2022. Her unconventional role allowed her to understand where her skills could be best utilized to support USAA in a non-contract role.\\nRachel recently joined USAA’s Data Science Delivery team as a Decision Science Analyst I in February 2023. The team is focused on delivering machine learning models for fraud prevention, and Rachel’s particular role centers around providing strategic process solutions for the team in collaboration with Operational and Model Risk components.\\nIn addition to her career, Rachel is currently pursuing a master’s degree in Applied Data Science from Syracuse University, further expanding her knowledge and skills in the field. Rachel is passionate about collaborating with individuals who share her belief in the potential of others and strive to achieve growth through logical, informed action. She welcomes LinkedIn connections and is excited about supporting the network of CodeUp alumni!\\nWe asked Rachel how Codeup impacted her career, and she replied “Codeup delivered a comprehensive education in all facets of the data science pipeline, laying a strong foundation for me to build upon. Through repeated hands-on practice, I developed a reliable process that was immediately applicable in my job. Collaborative group projects were instrumental in helping me hone my skills in project management, allowing me to navigate complex data science projects with comfortability. Thanks to this invaluable experience, I was able to make significant strides in my career within just six months of graduating from Codeup.”\\nDon’t forget to tune in on March 29th to sit in on an insightful conversation.\\n</td>\n",
       "    </tr>\n",
       "    <tr>\n",
       "      <th>3</th>\n",
       "      <td>Women in Tech: Panelist Spotlight – Sarah Mellor</td>\n",
       "      <td>https://codeup.com/codeup-news/panelist-spotlight-4/</td>\n",
       "      <td>Mar 13, 2023</td>\n",
       "      <td>\\nWomen in tech: Panelist Spotlight – Sarah Mellor \\nCodeup is hosting a Women in Tech Panel in honor of Women’s History Month on March 29th, 2023! To further celebrate, we’d like to spotlight each of our panelists leading up to the discussion to learn a bit about their respective experiences as women in the tech industry!\\nMeet Sarah!\\nSarah Mellor currently works as the Director of People Operations. She joined Codeup four and a half years ago as an Admissions Manager. She went on to build out and lead the Marketing and Admissions team, while picking up People Ops tasks and projects here and there until moving over to lead the People Ops team two years ago. Prior to Codeup, she worked at education-focused non-profits in Washington, DC and Boulder, Colorado. She graduated from Wake Forest University.\\nWe asked Sarah how Codeup has impacted her career, and her response was “I have absolutely loved having the privilege to grow alongside Codeup. In my time here across multiple different roles and departments, I’ve seen a lot of change. The consistent things have always been the high quality of passionate and hardworking people I get to work with; the impactful mission we get to work on; and the inspiring students who trust us with their career change.”\\nDon’t forget to tune in on March 29th to sit in on an insightful conversation.\\n</td>\n",
       "    </tr>\n",
       "    <tr>\n",
       "      <th>4</th>\n",
       "      <td>Women in Tech: Panelist Spotlight – Madeleine Capper</td>\n",
       "      <td>https://codeup.com/codeup-news/panelist-spotlight-4/</td>\n",
       "      <td>Mar 6, 2023</td>\n",
       "      <td>\\nWomen in tech: Panelist Spotlight – Madeleine Capper\\nCodeup is hosting a Women in Tech Panel in honor of Women’s History Month on March 29th, 2023! To further celebrate, we’d like to spotlight each of our panelists leading up to the discussion to learn a bit about their respective experiences as women in the tech industry!\\nMeet Madeleine!\\nMadeleine Capper is a Data Scientist in San Antonio, Texas. A long-standing San Antonio resident, she studied mathematics at the University of Texas San Antonio and has worked as a Data Scientist for Booz Allen Hamilton. Madeleine currently teaches Data Science at Codeup, where she works daily with burgeoning data professionals to help them actualize their career aspirations through technical education.\\nMadeleine attended Codeup as a student in early 2019 as a pupil in the very first Codeup Data Science cohort. The program proved immediately effective and she was the first student to obtain a data career out of the program. After working at Booz Allen Hamilton, Madeleine’s passion for education in conjunction with her appreciation for Codeup’s capacity for transformative life change brought her back to the institution in an instructional capacity, where she has been teaching for two years.\\nDon’t forget to tune in on March 29th to sit in on an insightful conversation.\\n</td>\n",
       "    </tr>\n",
       "    <tr>\n",
       "      <th>5</th>\n",
       "      <td>Black Excellence in Tech: Panelist Spotlight – Wilmarie De La Cruz Mejia</td>\n",
       "      <td>https://codeup.com/codeup-news/panelist-spotlight-4/</td>\n",
       "      <td>Feb 16, 2023</td>\n",
       "      <td>\\nBlack excellence in tech: Panelist Spotlight – Wilmarie De La Cruz Mejia\\n\\nCodeup is hosting a Black Excellence in Tech Panel in honor of Black History Month on February 22, 2023! To further celebrate, we’d like to spotlight each of our panelists leading up to the discussion to learn a bit about their respective experiences as black leaders in the tech industry!  \\nMeet Wilmarie!\\nWilmarie De La Cruz Mejia is a current Codeup student on the path to becoming a Full-Stack Web Developer at our Dallas, TX campus. \\nWilmarie is a veteran expanding her knowledge of programming languages and technologies on her journey with Codeup. \\nWe asked Wilmarie to share more about her experience at Codeup. She shares, “I was able to meet other people who were passionate about coding and be in a positive learning environment.”\\nWe hope you can join us on February 22nd to sit in on an insightful conversation with Wilmarie and all of our panelists!\\n</td>\n",
       "    </tr>\n",
       "  </tbody>\n",
       "</table>\n",
       "</div>"
      ],
      "text/plain": [
       "                                                                                    title  \\\n",
       "0  Spotlight on APIDA Voices: Celebrating Heritage and Inspiring Change ft. Arbeena Thapa   \n",
       "1                                      Women in tech: Panelist Spotlight – Magdalena Rahn   \n",
       "2                              Women in tech: Panelist Spotlight – Rachel Robbins-Mayhill   \n",
       "3                                        Women in Tech: Panelist Spotlight – Sarah Mellor   \n",
       "4                                    Women in Tech: Panelist Spotlight – Madeleine Capper   \n",
       "5                Black Excellence in Tech: Panelist Spotlight – Wilmarie De La Cruz Mejia   \n",
       "\n",
       "                                                   link date_published  \\\n",
       "0  https://codeup.com/codeup-news/panelist-spotlight-4/   May 24, 2023   \n",
       "1  https://codeup.com/codeup-news/panelist-spotlight-4/   Mar 28, 2023   \n",
       "2  https://codeup.com/codeup-news/panelist-spotlight-4/   Mar 20, 2023   \n",
       "3  https://codeup.com/codeup-news/panelist-spotlight-4/   Mar 13, 2023   \n",
       "4  https://codeup.com/codeup-news/panelist-spotlight-4/    Mar 6, 2023   \n",
       "5  https://codeup.com/codeup-news/panelist-spotlight-4/   Feb 16, 2023   \n",
       "\n",
       "                                                                                                                                                                                                                                                                                                                                                                                                                                                                                                                                                                                                                                                                                                                                                                                                                                                                                                                                                                                                                                                                                                                                                                                                                                                                                                                                                                                                                                                                                                                                                                                                                                                                                                                                                                                                                                                                                                                                                                                                                                                                                                                                                                                                                                                                                                                                                                                                                                                                                                                                                                                                                                                                                                                                                                                                                                                                                                                                                                                                                                                                                                                                                                                                                                                                                                                                                                                                                                                                                                                                                                                                                                                                                                                                                                                                                                                                                                                                                                                                                                                                                                                                                                                                                                                                                                                                                                                                                                                                                                                                                                                                                                                                                                                                                                                                                                                                                                                                                                                                                                                                                                                                                                                                                                                                                                                                                                                                                                                                                            content  \n",
       "0  \\nMay is traditionally known as Asian American and Pacific Islander (AAPI) Heritage Month. This month we celebrate the history and contributions made possible by our AAPI friends, family, and community. We also examine our level of support and seek opportunities to better understand the AAPI community.\\n\\nIn an effort to address real concerns and experiences, we sat down with Arbeena Thapa, one of Codeup’s Financial Aid and Enrollment Managers.\\nArbeena identifies as Nepali American and Desi. Arbeena’s parents immigrated to Texas in 1988 for better employment and educational opportunities. Arbeena’s older sister was five when they made the move to the US. Arbeena was born later, becoming the first in her family to be a US citizen.\\nAt Codeup we take our efforts at inclusivity very seriously. After speaking with Arbeena, we were taught that the term AAPI excludes Desi-American individuals. Hence, we will now use the term Asian Pacific Islander Desi American (APIDA).\\nHere is how the rest of our conversation with Arbeena went!\\nHow do you celebrate or connect with your heritage and cultural traditions?\\n“I celebrate Nepal’s version of Christmas or Dashain. This is a nine-day celebration also known as Dussehra. I grew up as Hindu and I identify as Hindu, this is a very large part of my heritage. “\\n“Other ways I connect with my culture include sharing food! Momos are South Asian Dumplings and they’re my favorite to make and share.”\\n“On my Asian American side, I am an advocate of immigrant justice and erasure within APIDA social or political movements. I participate in events to embrace my identity such as immigrant justice advocacy because I come from a mixed-status family. I’ve always been in a community with undocumented Asian immigrants. .”\\nWhat are some of the challenges you have faced as an APIDA individual, personally or professionally?\\n“I often struggle with being gendered as compliant or a pushover. Professionally, I am often stereotyped as meek, so I’ve been overlooked for leadership roles. We are seen as perpetually foreign; people tend to other us in that way, yet put us on a pedestal for what a model minority looks like. This has made me hesitant to share my heritage in the past because these assumptions get mapped onto me. ”\\nCan you describe some common barriers of entry that APIDA individuals, specifically women may face when trying to enter or advance in the workplace?\\n“Being overlooked for leadership. In the past, I have not been viewed as a leader. People sometimes have preconceived stereotypes of Asian women not being able to be bold, or being vocal can be mistaken for being too emotional. “\\nHow do you believe microaggressions impact APIDA individuals in the workplace? Can you provide examples of such microaggressions?\\n“Erasure is big. To me, only saying ‘Merry Christmas’ isn’t inclusive to other religions. People are often resistant to saying ‘Happy Holidays,’ but saying Merry Christmas excludes, and does not appreciate my heritage. “\\n“Often microaggressions are not micro at all. They typically are not aggressive racialized violence, but the term ‘micro’ minimizes impact.”\\n“Some that I’ve heard are ‘What kind of Asian are you?’ or ‘Where are you from?’ This automatically makes me the ‘other’ and not seen as American. Even within the APIDA community, South Asians are overlooked as “Asian”.”\\nHow important is representation, specifically APIDA representation, in organizational leadership positions?\\n“I want to say that it is important to have someone who looks like you in leadership roles, and it is, but those leaders may not share the same beliefs as you. Certain privileges such as wealth, resources, or lack of interaction with lower-socioeconomic-status Asian Americans may cause a difference in community politics. I do not think the bamboo ceiling is acceptable, but the company you work for plays a big part in your politics and belief alignment.”\\nHow do you feel about code-switching, and have you ever felt it necessary to code-switch?\\n“I like sharing South Asian terms or connecting with others that have similar heritage and culture. A workplace that is welcoming to going into this sort of breakout is refreshing and makes space for us. However, having to code-switch could also mean a workplace that is not conducive and welcoming of other cultures. “\\nFinally, in your opinion, what long-term strategies can create lasting change in the workplace and ensure support, equality, and inclusion for APIDA individuals?\\n“Prior to a career in financial aid, I did a lot of research related to the post-9/11 immigration of the South Asian diaspora. This background made me heavily rely on grassroots organizing. Hire the people that want to innovate, hire the changemakers, hire the button-pushers. Reduce reliance on whiteness as change. This will become natural for the organization and become organizational change. Change comes from us on the ground.”\\nA huge thank you to Arbeena Thapa for sharing her experiences, and being vulnerable with us. Your words were inspiring and the opportunity to understand your perspective more has been valuable. We hope we can become better support for the APIDA community as we learn and grow on our journey of cultivating inclusive growth.\\n  \n",
       "1                                                                                                                                                                                                                                                                                                                                                                                                                                                                                                                                                                                                                                                                                                                                                                                                                                                                                                                                                                                                                                                                                                                                                                                                                                                                                                                                                                                                                                                                                                                                                                                                                                                                                                                                                                                                                                                                                                                                                                                                                                                                                                                                                                                                                                                                                                                                                                                                                                                                                                                                                                                                                                                                                                                                                                                                                                                                                                                                                                                                                                                                                                                                                                                                                                                                                                                                                                                                                                                                                                                                                                                                                                                                                                                                                                                                                                                                                                                                                                                                                                                                                                                                                                                                                                                               \\nWomen in tech: Panelist Spotlight – Magdalena Rahn\\nCodeup is hosting a Women in Tech Panel in honor of Women’s History Month on March 29th, 2023! To further celebrate, we’d like to spotlight each of our panelists leading up to the discussion to learn a bit about their respective experiences as women in the tech industry!\\n\\nMeet Magdalena!\\nMagdalena Rahn is a current Codeup student in a Data Science cohort in San Antonio, Texas. She has a professional background in cross-cultural communications, international business development, the wine industry and journalism. After serving in the US Navy, she decided to complement her professional skill set by attending the Data Science program at Codeup; she is set to graduate in March 2023. Magdalena is fluent in French, Bulgarian, Chinese-Mandarin, Spanish and Italian.\\nWe asked Magdalena how Codeup impacted her career, and she replied “Codeup has provided a solid foundation in analytical processes, programming and data science methods, and it’s been an encouragement to have such supportive instructors and wonderful classmates.”\\nDon’t forget to tune in on March 29th to sit in on an insightful conversation with Magdalena.\\n  \n",
       "2                                                                                                                                                                                                                                                                                                                                                                                                                                                                                                                                                                                                                                                                                                                                                                                                                                                                                                                                                                                                                                                                                                                                                                                                                                                                                                                                                                                                                                                                                                                                                                                                                                                                                                                                                                                                                                                                                                                                                                                                                                                                                                                                                                                                                                                                                                                                                                                                                                                                                                                                                                                                                                                    \\nWomen in tech: Panelist Spotlight – Rachel Robbins-Mayhill\\nCodeup is hosting a Women in Tech Panel in honor of Women’s History Month on March 29th, 2023! To further celebrate, we’d like to spotlight each of our panelists leading up to the discussion to learn a bit about their respective experiences as women in the tech industry! Meet Rachel!\\n\\nRachel Robbins-Mayhill is a Decision Science Analyst I in San Antonio, Texas. Rachel has had a varied career that includes counseling, teaching, training, community development, and military operations. Her focus has always been on assessing needs, identifying solutions, and educating individuals and groups on aligning needs and solutions in different contexts. Rachel’s passion for data science stems from her belief that data is a powerful tool for communicating patterns that can lead to hope and growth in the future.\\nIn June 2022, Rachel graduated from Codeup’s Innis cohort, where she honed her skills in data science. Shortly after, she started working as a Data Science Technical Writer with Apex Systems as a Contractor for USAA in July 2022. Her unconventional role allowed her to understand where her skills could be best utilized to support USAA in a non-contract role.\\nRachel recently joined USAA’s Data Science Delivery team as a Decision Science Analyst I in February 2023. The team is focused on delivering machine learning models for fraud prevention, and Rachel’s particular role centers around providing strategic process solutions for the team in collaboration with Operational and Model Risk components.\\nIn addition to her career, Rachel is currently pursuing a master’s degree in Applied Data Science from Syracuse University, further expanding her knowledge and skills in the field. Rachel is passionate about collaborating with individuals who share her belief in the potential of others and strive to achieve growth through logical, informed action. She welcomes LinkedIn connections and is excited about supporting the network of CodeUp alumni!\\nWe asked Rachel how Codeup impacted her career, and she replied “Codeup delivered a comprehensive education in all facets of the data science pipeline, laying a strong foundation for me to build upon. Through repeated hands-on practice, I developed a reliable process that was immediately applicable in my job. Collaborative group projects were instrumental in helping me hone my skills in project management, allowing me to navigate complex data science projects with comfortability. Thanks to this invaluable experience, I was able to make significant strides in my career within just six months of graduating from Codeup.”\\nDon’t forget to tune in on March 29th to sit in on an insightful conversation.\\n  \n",
       "3                                                                                                                                                                                                                                                                                                                                                                                                                                                                                                                                                                                                                                                                                                                                                                                                                                                                                                                                                                                                                                                                                                                                                                                                                                                                                                                                                                                                                                                                                                                                                                                                                                                                                                                                                                                                                                                                                                                                                                                                                                                                                                                                                                                                                                                                                                                                                                                                                                                                                                                                                                                                                                                                                                                                                                                                                                                                                                                                                                                                                                                                                                                                                                                                                                                                                                                                                                                                                                                                                                                                                                                                                                                                                                                                                                                                                                                                                                                                                                                                                                                                                          \\nWomen in tech: Panelist Spotlight – Sarah Mellor \\nCodeup is hosting a Women in Tech Panel in honor of Women’s History Month on March 29th, 2023! To further celebrate, we’d like to spotlight each of our panelists leading up to the discussion to learn a bit about their respective experiences as women in the tech industry!\\nMeet Sarah!\\nSarah Mellor currently works as the Director of People Operations. She joined Codeup four and a half years ago as an Admissions Manager. She went on to build out and lead the Marketing and Admissions team, while picking up People Ops tasks and projects here and there until moving over to lead the People Ops team two years ago. Prior to Codeup, she worked at education-focused non-profits in Washington, DC and Boulder, Colorado. She graduated from Wake Forest University.\\nWe asked Sarah how Codeup has impacted her career, and her response was “I have absolutely loved having the privilege to grow alongside Codeup. In my time here across multiple different roles and departments, I’ve seen a lot of change. The consistent things have always been the high quality of passionate and hardworking people I get to work with; the impactful mission we get to work on; and the inspiring students who trust us with their career change.”\\nDon’t forget to tune in on March 29th to sit in on an insightful conversation.\\n  \n",
       "4                                                                                                                                                                                                                                                                                                                                                                                                                                                                                                                                                                                                                                                                                                                                                                                                                                                                                                                                                                                                                                                                                                                                                                                                                                                                                                                                                                                                                                                                                                                                                                                                                                                                                                                                                                                                                                                                                                                                                                                                                                                                                                                                                                                                                                                                                                                                                                                                                                                                                                                                                                                                                                                                                                                                                                                                                                                                                                                                                                                                                                                                                                                                                                                                                                                                                                                                                                                                                                                                                                                                                                                                                                                                                                                                                                                                                                                                                                                                                                                                                                                                                                               \\nWomen in tech: Panelist Spotlight – Madeleine Capper\\nCodeup is hosting a Women in Tech Panel in honor of Women’s History Month on March 29th, 2023! To further celebrate, we’d like to spotlight each of our panelists leading up to the discussion to learn a bit about their respective experiences as women in the tech industry!\\nMeet Madeleine!\\nMadeleine Capper is a Data Scientist in San Antonio, Texas. A long-standing San Antonio resident, she studied mathematics at the University of Texas San Antonio and has worked as a Data Scientist for Booz Allen Hamilton. Madeleine currently teaches Data Science at Codeup, where she works daily with burgeoning data professionals to help them actualize their career aspirations through technical education.\\nMadeleine attended Codeup as a student in early 2019 as a pupil in the very first Codeup Data Science cohort. The program proved immediately effective and she was the first student to obtain a data career out of the program. After working at Booz Allen Hamilton, Madeleine’s passion for education in conjunction with her appreciation for Codeup’s capacity for transformative life change brought her back to the institution in an instructional capacity, where she has been teaching for two years.\\nDon’t forget to tune in on March 29th to sit in on an insightful conversation.\\n  \n",
       "5                                                                                                                                                                                                                                                                                                                                                                                                                                                                                                                                                                                                                                                                                                                                                                                                                                                                                                                                                                                                                                                                                                                                                                                                                                                                                                                                                                                                                                                                                                                                                                                                                                                                                                                                                                                                                                                                                                                                                                                                                                                                                                                                                                                                                                                                                                                                                                                                                                                                                                                                                                                                                                                                                                                                                                                                                                                                                                                                                                                                                                                                                                                                                                                                                                                                                                                                                                                                                                                                                                                                                                                                                                                                                                                                                                                                                                                                                                                                                                                                                                                                                                                                                                                                                                                                                                                                                                                                                                                                                                               \\nBlack excellence in tech: Panelist Spotlight – Wilmarie De La Cruz Mejia\\n\\nCodeup is hosting a Black Excellence in Tech Panel in honor of Black History Month on February 22, 2023! To further celebrate, we’d like to spotlight each of our panelists leading up to the discussion to learn a bit about their respective experiences as black leaders in the tech industry!  \\nMeet Wilmarie!\\nWilmarie De La Cruz Mejia is a current Codeup student on the path to becoming a Full-Stack Web Developer at our Dallas, TX campus. \\nWilmarie is a veteran expanding her knowledge of programming languages and technologies on her journey with Codeup. \\nWe asked Wilmarie to share more about her experience at Codeup. She shares, “I was able to meet other people who were passionate about coding and be in a positive learning environment.”\\nWe hope you can join us on February 22nd to sit in on an insightful conversation with Wilmarie and all of our panelists!\\n  "
      ]
     },
     "execution_count": 37,
     "metadata": {},
     "output_type": "execute_result"
    }
   ],
   "source": [
    "codeup_df = pd.DataFrame(article_info)\n",
    "codeup_df"
   ]
  },
  {
   "cell_type": "code",
   "execution_count": null,
   "id": "a2c7ab06-8042-441c-bf38-07ae2d953e2d",
   "metadata": {},
   "outputs": [],
   "source": []
  },
  {
   "cell_type": "code",
   "execution_count": null,
   "id": "ac355c48-7146-4de5-b160-e3606e9a581d",
   "metadata": {},
   "outputs": [],
   "source": []
  },
  {
   "cell_type": "markdown",
   "id": "5a53ae05-6fe4-4caa-a7e7-4ebe016710a2",
   "metadata": {},
   "source": [
    "#### 8. For each dataframe, produce the following columns:\n",
    "\n",
    "- title to hold the title\n",
    "- original to hold the original article/post content\n",
    "- clean to hold the normalized and tokenized original with the stopwords removed.\n",
    "- stemmed to hold the stemmed version of the cleaned data.\n",
    "- lemmatized to hold the lemmatized version of the cleaned data."
   ]
  },
  {
   "cell_type": "code",
   "execution_count": 63,
   "id": "b2d56e7c-cc13-4e3d-984e-1ea3814b382c",
   "metadata": {},
   "outputs": [],
   "source": [
    "news_df['clean_norm_token'] = news_df['content'].apply(basic_clean).apply(tokenize).apply(remove_stopwords)"
   ]
  },
  {
   "cell_type": "code",
   "execution_count": 68,
   "id": "a40ef538-0c83-4df3-af38-e0945d2b0012",
   "metadata": {},
   "outputs": [],
   "source": [
    "news_df['stemmed'] = news_df.clean_norm_token.apply(stem)"
   ]
  },
  {
   "cell_type": "code",
   "execution_count": 83,
   "id": "18709021-db9f-4bc0-af78-091eff7ee120",
   "metadata": {},
   "outputs": [],
   "source": [
    "news_df['lemmatized'] = news_df.clean_norm_token.apply(lemmatize)"
   ]
  },
  {
   "cell_type": "code",
   "execution_count": 91,
   "id": "a481bd1e-6862-4d4d-a1b4-bd128a319449",
   "metadata": {},
   "outputs": [
    {
     "data": {
      "text/html": [
       "<div>\n",
       "<style scoped>\n",
       "    .dataframe tbody tr th:only-of-type {\n",
       "        vertical-align: middle;\n",
       "    }\n",
       "\n",
       "    .dataframe tbody tr th {\n",
       "        vertical-align: top;\n",
       "    }\n",
       "\n",
       "    .dataframe thead th {\n",
       "        text-align: right;\n",
       "    }\n",
       "</style>\n",
       "<table border=\"1\" class=\"dataframe\">\n",
       "  <thead>\n",
       "    <tr style=\"text-align: right;\">\n",
       "      <th></th>\n",
       "      <th>category</th>\n",
       "      <th>title</th>\n",
       "      <th>content</th>\n",
       "      <th>clean_norm_token</th>\n",
       "      <th>stemmed</th>\n",
       "      <th>lemmatized</th>\n",
       "    </tr>\n",
       "  </thead>\n",
       "  <tbody>\n",
       "    <tr>\n",
       "      <th>0</th>\n",
       "      <td>business</td>\n",
       "      <td>Sensex, Nifty end at fresh closing highs</td>\n",
       "      <td>Benchmark indices Sensex and Nifty ended at re...</td>\n",
       "      <td>benchmark indices sensex nifty ended record cl...</td>\n",
       "      <td>benchmark indic sensex nifti end record close ...</td>\n",
       "      <td>benchmark index sensex nifty ended record clos...</td>\n",
       "    </tr>\n",
       "    <tr>\n",
       "      <th>1</th>\n",
       "      <td>business</td>\n",
       "      <td>TIME releases list of the world's 100 most inf...</td>\n",
       "      <td>TIME magazine has released its annual list of ...</td>\n",
       "      <td>time magazine released annual list world 100 i...</td>\n",
       "      <td>time magazin releas annual list world 100 infl...</td>\n",
       "      <td>time magazine released annual list world 100 i...</td>\n",
       "    </tr>\n",
       "    <tr>\n",
       "      <th>2</th>\n",
       "      <td>business</td>\n",
       "      <td>Which are the world's top 10 airlines accordin...</td>\n",
       "      <td>Singapore Airlines is the world's best airline...</td>\n",
       "      <td>singapore airlines world best airline accordin...</td>\n",
       "      <td>singapor airlin world best airlin accord skytr...</td>\n",
       "      <td>singapore airline world best airline according...</td>\n",
       "    </tr>\n",
       "    <tr>\n",
       "      <th>3</th>\n",
       "      <td>business</td>\n",
       "      <td>Loves India, is a fan of PM: Paytm Founder on ...</td>\n",
       "      <td>Paytm Founder Vijay Shekhar Sharma shared a vi...</td>\n",
       "      <td>paytm founder vijay shekhar sharma shared vide...</td>\n",
       "      <td>paytm founder vijay shekhar sharma share video...</td>\n",
       "      <td>paytm founder vijay shekhar sharma shared vide...</td>\n",
       "    </tr>\n",
       "    <tr>\n",
       "      <th>4</th>\n",
       "      <td>business</td>\n",
       "      <td>UK's net debt passes 100% of GDP for the first...</td>\n",
       "      <td>The United Kingdom's public sector net debt in...</td>\n",
       "      <td>united kingdom public sector net debt may exce...</td>\n",
       "      <td>unit kingdom public sector net debt may exceed...</td>\n",
       "      <td>united kingdom public sector net debt may exce...</td>\n",
       "    </tr>\n",
       "  </tbody>\n",
       "</table>\n",
       "</div>"
      ],
      "text/plain": [
       "   category                                              title  \\\n",
       "0  business           Sensex, Nifty end at fresh closing highs   \n",
       "1  business  TIME releases list of the world's 100 most inf...   \n",
       "2  business  Which are the world's top 10 airlines accordin...   \n",
       "3  business  Loves India, is a fan of PM: Paytm Founder on ...   \n",
       "4  business  UK's net debt passes 100% of GDP for the first...   \n",
       "\n",
       "                                             content  \\\n",
       "0  Benchmark indices Sensex and Nifty ended at re...   \n",
       "1  TIME magazine has released its annual list of ...   \n",
       "2  Singapore Airlines is the world's best airline...   \n",
       "3  Paytm Founder Vijay Shekhar Sharma shared a vi...   \n",
       "4  The United Kingdom's public sector net debt in...   \n",
       "\n",
       "                                    clean_norm_token  \\\n",
       "0  benchmark indices sensex nifty ended record cl...   \n",
       "1  time magazine released annual list world 100 i...   \n",
       "2  singapore airlines world best airline accordin...   \n",
       "3  paytm founder vijay shekhar sharma shared vide...   \n",
       "4  united kingdom public sector net debt may exce...   \n",
       "\n",
       "                                             stemmed  \\\n",
       "0  benchmark indic sensex nifti end record close ...   \n",
       "1  time magazin releas annual list world 100 infl...   \n",
       "2  singapor airlin world best airlin accord skytr...   \n",
       "3  paytm founder vijay shekhar sharma share video...   \n",
       "4  unit kingdom public sector net debt may exceed...   \n",
       "\n",
       "                                          lemmatized  \n",
       "0  benchmark index sensex nifty ended record clos...  \n",
       "1  time magazine released annual list world 100 i...  \n",
       "2  singapore airline world best airline according...  \n",
       "3  paytm founder vijay shekhar sharma shared vide...  \n",
       "4  united kingdom public sector net debt may exce...  "
      ]
     },
     "execution_count": 91,
     "metadata": {},
     "output_type": "execute_result"
    }
   ],
   "source": [
    "news_df.head()"
   ]
  },
  {
   "cell_type": "code",
   "execution_count": 75,
   "id": "17988375-a19b-452d-9c3e-b6aa834a2576",
   "metadata": {},
   "outputs": [],
   "source": [
    "codeup_df['clean_norm_token'] = codeup_df.content.apply(basic_clean).apply(tokenize).apply(remove_stopwords)"
   ]
  },
  {
   "cell_type": "code",
   "execution_count": 78,
   "id": "086aebb6-2d00-480e-bdab-0c5cd2355d52",
   "metadata": {},
   "outputs": [],
   "source": [
    "codeup_df['stemmed'] = codeup_df.clean_norm_token.apply(stem)"
   ]
  },
  {
   "cell_type": "code",
   "execution_count": 81,
   "id": "a94819cf-2cfe-4b78-94fc-437556d2f770",
   "metadata": {},
   "outputs": [],
   "source": [
    "codeup_df['lemmatized'] = codeup_df.clean_norm_token.apply(lemmatize)"
   ]
  },
  {
   "cell_type": "code",
   "execution_count": 90,
   "id": "8a6433aa-6179-44b2-aebc-4c0dd82d4931",
   "metadata": {},
   "outputs": [
    {
     "data": {
      "text/html": [
       "<div>\n",
       "<style scoped>\n",
       "    .dataframe tbody tr th:only-of-type {\n",
       "        vertical-align: middle;\n",
       "    }\n",
       "\n",
       "    .dataframe tbody tr th {\n",
       "        vertical-align: top;\n",
       "    }\n",
       "\n",
       "    .dataframe thead th {\n",
       "        text-align: right;\n",
       "    }\n",
       "</style>\n",
       "<table border=\"1\" class=\"dataframe\">\n",
       "  <thead>\n",
       "    <tr style=\"text-align: right;\">\n",
       "      <th></th>\n",
       "      <th>title</th>\n",
       "      <th>link</th>\n",
       "      <th>date_published</th>\n",
       "      <th>content</th>\n",
       "      <th>clean_norm_token</th>\n",
       "      <th>stemmed</th>\n",
       "      <th>lemmatized</th>\n",
       "    </tr>\n",
       "  </thead>\n",
       "  <tbody>\n",
       "    <tr>\n",
       "      <th>0</th>\n",
       "      <td>Spotlight on APIDA Voices: Celebrating Heritag...</td>\n",
       "      <td>https://codeup.com/codeup-news/panelist-spotli...</td>\n",
       "      <td>May 24, 2023</td>\n",
       "      <td>\\nMay is traditionally known as Asian American...</td>\n",
       "      <td>may traditionally known asian american pacific...</td>\n",
       "      <td>may tradit known asian american pacif island a...</td>\n",
       "      <td>may traditionally known asian american pacific...</td>\n",
       "    </tr>\n",
       "    <tr>\n",
       "      <th>1</th>\n",
       "      <td>Women in tech: Panelist Spotlight – Magdalena ...</td>\n",
       "      <td>https://codeup.com/codeup-news/panelist-spotli...</td>\n",
       "      <td>Mar 28, 2023</td>\n",
       "      <td>\\nWomen in tech: Panelist Spotlight – Magdalen...</td>\n",
       "      <td>women tech panelist spotlight magdalena rahn c...</td>\n",
       "      <td>women tech panelist spotlight magdalena rahn c...</td>\n",
       "      <td>woman tech panelist spotlight magdalena rahn c...</td>\n",
       "    </tr>\n",
       "    <tr>\n",
       "      <th>2</th>\n",
       "      <td>Women in tech: Panelist Spotlight – Rachel Rob...</td>\n",
       "      <td>https://codeup.com/codeup-news/panelist-spotli...</td>\n",
       "      <td>Mar 20, 2023</td>\n",
       "      <td>\\nWomen in tech: Panelist Spotlight – Rachel R...</td>\n",
       "      <td>women tech panelist spotlight rachel robbinsma...</td>\n",
       "      <td>women tech panelist spotlight rachel robbinsma...</td>\n",
       "      <td>woman tech panelist spotlight rachel robbinsma...</td>\n",
       "    </tr>\n",
       "    <tr>\n",
       "      <th>3</th>\n",
       "      <td>Women in Tech: Panelist Spotlight – Sarah Mellor</td>\n",
       "      <td>https://codeup.com/codeup-news/panelist-spotli...</td>\n",
       "      <td>Mar 13, 2023</td>\n",
       "      <td>\\nWomen in tech: Panelist Spotlight – Sarah Me...</td>\n",
       "      <td>women tech panelist spotlight sarah mellor cod...</td>\n",
       "      <td>women tech panelist spotlight sarah mellor cod...</td>\n",
       "      <td>woman tech panelist spotlight sarah mellor cod...</td>\n",
       "    </tr>\n",
       "    <tr>\n",
       "      <th>4</th>\n",
       "      <td>Women in Tech: Panelist Spotlight – Madeleine ...</td>\n",
       "      <td>https://codeup.com/codeup-news/panelist-spotli...</td>\n",
       "      <td>Mar 6, 2023</td>\n",
       "      <td>\\nWomen in tech: Panelist Spotlight – Madelein...</td>\n",
       "      <td>women tech panelist spotlight madeleine capper...</td>\n",
       "      <td>women tech panelist spotlight madelein capper ...</td>\n",
       "      <td>woman tech panelist spotlight madeleine capper...</td>\n",
       "    </tr>\n",
       "  </tbody>\n",
       "</table>\n",
       "</div>"
      ],
      "text/plain": [
       "                                               title  \\\n",
       "0  Spotlight on APIDA Voices: Celebrating Heritag...   \n",
       "1  Women in tech: Panelist Spotlight – Magdalena ...   \n",
       "2  Women in tech: Panelist Spotlight – Rachel Rob...   \n",
       "3   Women in Tech: Panelist Spotlight – Sarah Mellor   \n",
       "4  Women in Tech: Panelist Spotlight – Madeleine ...   \n",
       "\n",
       "                                                link date_published  \\\n",
       "0  https://codeup.com/codeup-news/panelist-spotli...   May 24, 2023   \n",
       "1  https://codeup.com/codeup-news/panelist-spotli...   Mar 28, 2023   \n",
       "2  https://codeup.com/codeup-news/panelist-spotli...   Mar 20, 2023   \n",
       "3  https://codeup.com/codeup-news/panelist-spotli...   Mar 13, 2023   \n",
       "4  https://codeup.com/codeup-news/panelist-spotli...    Mar 6, 2023   \n",
       "\n",
       "                                             content  \\\n",
       "0  \\nMay is traditionally known as Asian American...   \n",
       "1  \\nWomen in tech: Panelist Spotlight – Magdalen...   \n",
       "2  \\nWomen in tech: Panelist Spotlight – Rachel R...   \n",
       "3  \\nWomen in tech: Panelist Spotlight – Sarah Me...   \n",
       "4  \\nWomen in tech: Panelist Spotlight – Madelein...   \n",
       "\n",
       "                                    clean_norm_token  \\\n",
       "0  may traditionally known asian american pacific...   \n",
       "1  women tech panelist spotlight magdalena rahn c...   \n",
       "2  women tech panelist spotlight rachel robbinsma...   \n",
       "3  women tech panelist spotlight sarah mellor cod...   \n",
       "4  women tech panelist spotlight madeleine capper...   \n",
       "\n",
       "                                             stemmed  \\\n",
       "0  may tradit known asian american pacif island a...   \n",
       "1  women tech panelist spotlight magdalena rahn c...   \n",
       "2  women tech panelist spotlight rachel robbinsma...   \n",
       "3  women tech panelist spotlight sarah mellor cod...   \n",
       "4  women tech panelist spotlight madelein capper ...   \n",
       "\n",
       "                                          lemmatized  \n",
       "0  may traditionally known asian american pacific...  \n",
       "1  woman tech panelist spotlight magdalena rahn c...  \n",
       "2  woman tech panelist spotlight rachel robbinsma...  \n",
       "3  woman tech panelist spotlight sarah mellor cod...  \n",
       "4  woman tech panelist spotlight madeleine capper...  "
      ]
     },
     "execution_count": 90,
     "metadata": {},
     "output_type": "execute_result"
    }
   ],
   "source": [
    "codeup_df.head()"
   ]
  },
  {
   "cell_type": "code",
   "execution_count": null,
   "id": "5b7de2d3-af0e-4199-987f-ff1211756034",
   "metadata": {},
   "outputs": [],
   "source": [
    "def clean_df(df, extra_words=[], exclude_words=[]):\n",
    "    \n",
    "    \n",
    "    df['clean'] = df.original\\\n",
    "                    "
   ]
  },
  {
   "cell_type": "markdown",
   "id": "899e0c40-ae73-4f2e-82c0-5b89fad523ad",
   "metadata": {},
   "source": [
    "#### 9. Ask yourself:\n",
    "\n",
    "- If your corpus is 493KB, would you prefer to use stemmed or lemmatized text?\n",
    "- If your corpus is 25MB, would you prefer to use stemmed or lemmatized text?\n",
    "- If your corpus is 200TB of text and you're charged by the megabyte for your hosted computational resources, would you prefer to use stemmed or lemmatized text?"
   ]
  },
  {
   "cell_type": "markdown",
   "id": "de9f68fb-a5c0-4a01-be78-cd351f913fd4",
   "metadata": {},
   "source": [
    "493KB, lemmatized text"
   ]
  },
  {
   "cell_type": "markdown",
   "id": "2f071364-15f3-4a5d-952a-f02f5c033d5a",
   "metadata": {},
   "source": [
    "25MB, lemmatized text"
   ]
  },
  {
   "cell_type": "markdown",
   "id": "8dc8286b-ce37-4515-9242-92b03c1f4881",
   "metadata": {},
   "source": [
    "200TB, stemmed because it's \"faster\""
   ]
  },
  {
   "cell_type": "code",
   "execution_count": null,
   "id": "032d4a7c-0f27-4f50-b0ab-2dceaac99428",
   "metadata": {},
   "outputs": [],
   "source": []
  }
 ],
 "metadata": {
  "kernelspec": {
   "display_name": "Python 3 (ipykernel)",
   "language": "python",
   "name": "python3"
  },
  "language_info": {
   "codemirror_mode": {
    "name": "ipython",
    "version": 3
   },
   "file_extension": ".py",
   "mimetype": "text/x-python",
   "name": "python",
   "nbconvert_exporter": "python",
   "pygments_lexer": "ipython3",
   "version": "3.9.13"
  }
 },
 "nbformat": 4,
 "nbformat_minor": 5
}
