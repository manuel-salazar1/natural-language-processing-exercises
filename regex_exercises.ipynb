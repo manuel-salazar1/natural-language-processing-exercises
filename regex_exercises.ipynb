{
 "cells": [
  {
   "cell_type": "markdown",
   "id": "61db22c3-b462-4ac9-860f-bb3e9b073a5e",
   "metadata": {},
   "source": [
    "#### Imports"
   ]
  },
  {
   "cell_type": "code",
   "execution_count": 1,
   "id": "615a760b-a33d-4d4e-ad2d-c8cc220e2684",
   "metadata": {},
   "outputs": [],
   "source": [
    "import pandas as pd\n",
    "import numpy as np\n",
    "# new import!\n",
    "import re"
   ]
  },
  {
   "cell_type": "markdown",
   "id": "8a545be5-5895-4fd6-a608-86c0678cea2b",
   "metadata": {},
   "source": [
    "# Exercises"
   ]
  },
  {
   "cell_type": "markdown",
   "id": "bd7f80fa-6e1b-46e8-80c1-3a1210711340",
   "metadata": {},
   "source": [
    "#### 1. Write a function named is_vowel. \n",
    "- It should accept a string as input and use a regular expression to determine if the passed string is a vowel. \n",
    "- While not explicity mentioned in the lesson, you can treat the result of re.search as a boolean value that indicates whether or not the regular expression matches the given string."
   ]
  },
  {
   "cell_type": "code",
   "execution_count": 32,
   "id": "366d16c1-4ff1-4f31-a0e5-bb277958c938",
   "metadata": {},
   "outputs": [],
   "source": [
    "def is_vowel(string):\n",
    "    vowels = r'^[aeiouAEIOU]$'\n",
    "    return bool(re.search(vowels, string))"
   ]
  },
  {
   "cell_type": "code",
   "execution_count": 38,
   "id": "7841c5cc-f106-4679-961f-f2d827184ffe",
   "metadata": {},
   "outputs": [
    {
     "data": {
      "text/plain": [
       "True"
      ]
     },
     "execution_count": 38,
     "metadata": {},
     "output_type": "execute_result"
    }
   ],
   "source": [
    "is_vowel('a')"
   ]
  },
  {
   "cell_type": "code",
   "execution_count": 37,
   "id": "f1029e5c-7198-41e8-b015-8a217913a404",
   "metadata": {},
   "outputs": [
    {
     "data": {
      "text/plain": [
       "False"
      ]
     },
     "execution_count": 37,
     "metadata": {},
     "output_type": "execute_result"
    }
   ],
   "source": [
    "is_vowel('P')"
   ]
  },
  {
   "cell_type": "markdown",
   "id": "c27933a4-27f5-4a39-8ea3-541bbe06d8fb",
   "metadata": {},
   "source": [
    "#### 2. Write a function named is_valid_username that accepts a string as input. \n",
    "- A valid username \n",
    "    - starts with a lowercase letter, and \n",
    "    - only consists of lowercase letters, \n",
    "    - numbers, or the _ character. \n",
    "    - It should also be no longer than 32 characters. \n",
    "- The function should return either True or False depending on whether the passed string is a valid username."
   ]
  },
  {
   "cell_type": "code",
   "execution_count": null,
   "id": "07f16cdb-b7a9-4e92-8472-2aca63cc92b1",
   "metadata": {},
   "outputs": [],
   "source": [
    "# >>> is_valid_username('aaaaaaaaaaaaaaaaaaaaaaaaaaaaaaaaa')\n",
    "# False\n",
    "# >>> is_valid_username('codeup')\n",
    "# True\n",
    "# >>> is_valid_username('Codeup')\n",
    "# False\n",
    "# >>> is_valid_username('codeup123')\n",
    "# True\n",
    "# >>> is_valid_username('1codeup')\n",
    "# False"
   ]
  },
  {
   "cell_type": "code",
   "execution_count": 185,
   "id": "6e18613a-3a2e-4bf6-b348-adf779c1485e",
   "metadata": {},
   "outputs": [],
   "source": [
    "def is_valid_username(string):\n",
    "    regexp = r'^[a-z][a-z0-9_]{0,31}$'\n",
    "    return bool(re.match(regexp, string))"
   ]
  },
  {
   "cell_type": "code",
   "execution_count": 195,
   "id": "d5f6b48e-8ce8-4073-a2ec-19de47841b0d",
   "metadata": {},
   "outputs": [
    {
     "data": {
      "text/plain": [
       "False"
      ]
     },
     "execution_count": 195,
     "metadata": {},
     "output_type": "execute_result"
    }
   ],
   "source": [
    "is_valid_username('aaaaaaaaaaaaaaaaaaaaaaaaaaaaaaaaa')"
   ]
  },
  {
   "cell_type": "code",
   "execution_count": 186,
   "id": "f32f74a8-96c3-4f72-917e-e1d7eb6af6fe",
   "metadata": {},
   "outputs": [
    {
     "data": {
      "text/plain": [
       "True"
      ]
     },
     "execution_count": 186,
     "metadata": {},
     "output_type": "execute_result"
    }
   ],
   "source": [
    "is_valid_username('codeup')"
   ]
  },
  {
   "cell_type": "code",
   "execution_count": 187,
   "id": "25d8a880-90cb-45f3-a120-4f59cebe37db",
   "metadata": {},
   "outputs": [
    {
     "data": {
      "text/plain": [
       "False"
      ]
     },
     "execution_count": 187,
     "metadata": {},
     "output_type": "execute_result"
    }
   ],
   "source": [
    "is_valid_username('Codeup')"
   ]
  },
  {
   "cell_type": "code",
   "execution_count": 188,
   "id": "5c33d942-6137-4826-84b4-d4d441bbf4ee",
   "metadata": {},
   "outputs": [
    {
     "data": {
      "text/plain": [
       "True"
      ]
     },
     "execution_count": 188,
     "metadata": {},
     "output_type": "execute_result"
    }
   ],
   "source": [
    "is_valid_username('codeup123')"
   ]
  },
  {
   "cell_type": "code",
   "execution_count": 189,
   "id": "cda6e9af-4eb1-4c4f-b1d8-81af67063f5b",
   "metadata": {},
   "outputs": [
    {
     "data": {
      "text/plain": [
       "False"
      ]
     },
     "execution_count": 189,
     "metadata": {},
     "output_type": "execute_result"
    }
   ],
   "source": [
    "is_valid_username('1codeup')"
   ]
  },
  {
   "cell_type": "markdown",
   "id": "318bf11d-a2ea-41e8-b485-6e6244189165",
   "metadata": {},
   "source": [
    "#### 3. Write a regular expression to capture phone numbers. It should match all of the following:"
   ]
  },
  {
   "cell_type": "code",
   "execution_count": null,
   "id": "1f16848f-5574-4e0b-9e95-d4365a853ff9",
   "metadata": {},
   "outputs": [],
   "source": [
    "(210) 867 5309\n",
    "+1 210.867.5309\n",
    "867-5309\n",
    "210-867-5309"
   ]
  },
  {
   "cell_type": "code",
   "execution_count": 517,
   "id": "5b3aec10-a044-44fa-9d84-2fae634db565",
   "metadata": {},
   "outputs": [
    {
     "data": {
      "text/plain": [
       "<re.Match object; span=(0, 15), match='+1 210-867.5309'>"
      ]
     },
     "execution_count": 517,
     "metadata": {},
     "output_type": "execute_result"
    }
   ],
   "source": [
    "regexp = r'([+?]?\\d?[\\-?.? ?]?[\\(?]?\\d{3}[\\-? ?.?)?]?[\\-? ?.?)?])?\\d{3}[\\-? ?.?]\\d{4}'\n",
    "\n",
    "re.match(regexp, number)"
   ]
  },
  {
   "cell_type": "code",
   "execution_count": 549,
   "id": "8efcaef1-58cf-482a-a1d6-3ddba10f4e7e",
   "metadata": {},
   "outputs": [
    {
     "data": {
      "text/plain": [
       "<re.Match object; span=(0, 15), match='+1 210-867.5309'>"
      ]
     },
     "execution_count": 549,
     "metadata": {},
     "output_type": "execute_result"
    }
   ],
   "source": [
    "regexp = r'([+\\d]*[-.\\s]*[(]*\\d{3}[-\\s.)*]*[-\\s.)*])*\\d{3}[-\\s.]*\\d{4}'\n",
    "\n",
    "re.match(regexp, number)"
   ]
  },
  {
   "cell_type": "code",
   "execution_count": 550,
   "id": "afee5a98-fd66-48d1-a24d-bb6921b60dc8",
   "metadata": {},
   "outputs": [],
   "source": [
    "def is_phone_number(string):\n",
    "    regexp = r'([+\\d]*[-.\\s]*[(]*\\d{3}[-\\s.)*]*[-\\s.)*])*\\d{3}[-\\s.]*\\d{4}'\n",
    "    return bool(re.match(regexp, string))"
   ]
  },
  {
   "cell_type": "code",
   "execution_count": 551,
   "id": "55a23467-7e3d-49e0-917f-a77c9539642b",
   "metadata": {},
   "outputs": [
    {
     "data": {
      "text/plain": [
       "True"
      ]
     },
     "execution_count": 551,
     "metadata": {},
     "output_type": "execute_result"
    }
   ],
   "source": [
    "is_phone_number('867-5309')"
   ]
  },
  {
   "cell_type": "code",
   "execution_count": 568,
   "id": "09695d06-199a-4755-a808-9e29b4d7f35b",
   "metadata": {},
   "outputs": [
    {
     "data": {
      "text/plain": [
       "True"
      ]
     },
     "execution_count": 568,
     "metadata": {},
     "output_type": "execute_result"
    }
   ],
   "source": [
    "is_phone_number('210-867-5309')"
   ]
  },
  {
   "cell_type": "code",
   "execution_count": 553,
   "id": "f1aab846-a58f-4a28-9046-d272a73d5da2",
   "metadata": {},
   "outputs": [
    {
     "data": {
      "text/plain": [
       "True"
      ]
     },
     "execution_count": 553,
     "metadata": {},
     "output_type": "execute_result"
    }
   ],
   "source": [
    "is_phone_number(\"(210) 867 5309\")"
   ]
  },
  {
   "cell_type": "code",
   "execution_count": 570,
   "id": "2e8d418d-86bb-4402-95d2-0578cb9875c8",
   "metadata": {},
   "outputs": [
    {
     "data": {
      "text/plain": [
       "True"
      ]
     },
     "execution_count": 570,
     "metadata": {},
     "output_type": "execute_result"
    }
   ],
   "source": [
    "is_phone_number('+1 210-867.5309')"
   ]
  },
  {
   "cell_type": "code",
   "execution_count": 561,
   "id": "905dfebf-bff5-4d41-8e14-232566b75981",
   "metadata": {},
   "outputs": [
    {
     "data": {
      "text/plain": [
       "False"
      ]
     },
     "execution_count": 561,
     "metadata": {},
     "output_type": "execute_result"
    }
   ],
   "source": [
    "is_phone_number('22-2222')"
   ]
  },
  {
   "cell_type": "markdown",
   "id": "dd5a7f31-0dc2-4cce-8b17-c915fb9ab841",
   "metadata": {},
   "source": [
    "#### 4. Use regular expressions to convert the dates below to the standardized year-month-day format."
   ]
  },
  {
   "cell_type": "code",
   "execution_count": null,
   "id": "b550284d-4ca4-4cb6-b056-c0bce8b65e6b",
   "metadata": {},
   "outputs": [],
   "source": [
    "02/04/19\n",
    "02/05/19\n",
    "02/06/19\n",
    "02/07/19\n",
    "02/08/19\n",
    "02/09/19\n",
    "02/10/19"
   ]
  },
  {
   "cell_type": "code",
   "execution_count": 577,
   "id": "595e762e-a88c-4256-908d-e1a98afbd198",
   "metadata": {},
   "outputs": [],
   "source": [
    "dates = ['02/04/19',\n",
    "'02/05/19',\n",
    "'02/06/19',\n",
    "'02/07/19',\n",
    "'02/08/19',\n",
    "'02/09/19',\n",
    "'02/10/19']"
   ]
  },
  {
   "cell_type": "code",
   "execution_count": 575,
   "id": "f7e27b6c-156d-4473-bb0b-5ddd2579f78c",
   "metadata": {},
   "outputs": [],
   "source": [
    "def standard_yyyy_mm_dd(string):\n",
    "    return re.sub(r'(\\d{2})/(\\d{2})/(\\d{2})', r'20\\3-\\1-\\2', string)"
   ]
  },
  {
   "cell_type": "code",
   "execution_count": 579,
   "id": "dc16efcd-4663-4015-911e-39840ea9f2b2",
   "metadata": {},
   "outputs": [
    {
     "data": {
      "text/plain": [
       "'2019-02-04'"
      ]
     },
     "execution_count": 579,
     "metadata": {},
     "output_type": "execute_result"
    }
   ],
   "source": [
    "standard_yyyy_mm_dd('02/04/19')"
   ]
  },
  {
   "cell_type": "code",
   "execution_count": 583,
   "id": "a6d492f9-9aaa-40b9-95e4-02a14a714cf2",
   "metadata": {},
   "outputs": [
    {
     "name": "stdout",
     "output_type": "stream",
     "text": [
      "2019-02-04\n",
      "2019-02-05\n",
      "2019-02-06\n",
      "2019-02-07\n",
      "2019-02-08\n",
      "2019-02-09\n",
      "2019-02-10\n"
     ]
    }
   ],
   "source": [
    "for date in dates:\n",
    "    print(standard_yyyy_mm_dd(date))"
   ]
  },
  {
   "cell_type": "markdown",
   "id": "b183aa31-dc3f-4118-831f-a546e011b6cb",
   "metadata": {},
   "source": [
    "#### 5. Write a regex to extract the various parts of these logfile lines:"
   ]
  },
  {
   "cell_type": "code",
   "execution_count": null,
   "id": "4286f7d0-adb6-4f37-8594-eda1eed8bdc3",
   "metadata": {},
   "outputs": [],
   "source": [
    "GET /api/v1/sales?page=86 [16/Apr/2019:193452+0000] HTTP/1.1 {200} 510348 \"python-requests/2.21.0\" 97.105.19.58\n",
    "POST /users_accounts/file-upload [16/Apr/2019:193452+0000] HTTP/1.1 {201} 42 \"User-Agent: Mozilla/5.0 (X11; Fedora; Fedora; Linux x86_64) AppleWebKit/537.36 (KHTML, like Gecko) Chrome/73.0.3683.86 Safari/537.36\" 97.105.19.58\n",
    "GET /api/v1/items?page=3 [16/Apr/2019:193453+0000] HTTP/1.1 {429} 3561 \"python-requests/2.21.0\" 97.105.19.58"
   ]
  },
  {
   "cell_type": "code",
   "execution_count": null,
   "id": "de85b315-9835-4da0-b053-b493ffdbc995",
   "metadata": {},
   "outputs": [],
   "source": []
  },
  {
   "cell_type": "code",
   "execution_count": null,
   "id": "e707f395-8733-49fb-ae9e-2a533a8221e8",
   "metadata": {},
   "outputs": [],
   "source": []
  },
  {
   "cell_type": "code",
   "execution_count": null,
   "id": "e181dc9f-ecae-4a71-b2e1-467ae7cf9976",
   "metadata": {},
   "outputs": [],
   "source": []
  },
  {
   "cell_type": "code",
   "execution_count": null,
   "id": "cf3860e8-067f-4901-b986-52bbfb5f41e8",
   "metadata": {},
   "outputs": [],
   "source": []
  },
  {
   "cell_type": "code",
   "execution_count": null,
   "id": "1f022402-cf81-43e2-b0df-53420789c238",
   "metadata": {},
   "outputs": [],
   "source": []
  }
 ],
 "metadata": {
  "kernelspec": {
   "display_name": "Python 3 (ipykernel)",
   "language": "python",
   "name": "python3"
  },
  "language_info": {
   "codemirror_mode": {
    "name": "ipython",
    "version": 3
   },
   "file_extension": ".py",
   "mimetype": "text/x-python",
   "name": "python",
   "nbconvert_exporter": "python",
   "pygments_lexer": "ipython3",
   "version": "3.9.13"
  }
 },
 "nbformat": 4,
 "nbformat_minor": 5
}
